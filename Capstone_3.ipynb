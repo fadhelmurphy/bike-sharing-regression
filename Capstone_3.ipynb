{
 "cells": [
  {
   "cell_type": "markdown",
   "metadata": {},
   "source": [
    "# Bike Sharing Dataset"
   ]
  },
  {
   "cell_type": "markdown",
   "metadata": {},
   "source": [
    "# Business Problem Understanding"
   ]
  },
  {
   "cell_type": "markdown",
   "metadata": {},
   "source": [
    "## Context\n",
    "Industri penyewaan sepeda berkembang pesat, terutama dengan adanya layanan berbagi sepeda di berbagai kota. Perusahaan penyedia layanan ini memiliki keinginan untuk meningkatkan efisiensi operasionalnya melalui prediksi permintaan sepeda pada kondisi tertentu. Data yang dimiliki oleh perusahaan tersebut terdapat dalam dataset data_bike_sharing.csv, yang mencakup informasi seperti waktu, cuaca, dan jumlah sepeda yang dipinjam."
   ]
  },
  {
   "cell_type": "markdown",
   "metadata": {},
   "source": [
    "## Problem Statement\n",
    "Mengembangkan model prediksi regresi machine learning untuk memperkirakan jumlah total sepeda yang akan dipinjam pada kondisi cuaca dan musim tertentu, guna meningkatkan efisiensi operasional perusahaan penyewaan sepeda.\n",
    "\n",
    "Dengan memiliki **prediksi jumlah total sepeda yang akan dipinjam**, perusahaan dapat mengoptimalkan penempatan sepeda dan efisiensi operasional, sehingga mengurangi kelebihan atau kekurangan stok sepeda dan meminimalkan biaya operasional yang terkait."
   ]
  },
  {
   "cell_type": "markdown",
   "metadata": {},
   "source": [
    "## Goals\n",
    "\n",
    "  - Memprediksi jumlah total sepeda yang dipinjam dengan akurasi tinggi berdasarkan kondisi cuaca dan musim tertentu, untuk meningkatkan perencanaan sumber daya dan pengelolaan inventaris.\n",
    "\n"
   ]
  },
  {
   "cell_type": "markdown",
   "metadata": {},
   "source": [
    "## Analytic Approach\n",
    "\n",
    "**Pemilihan Variabel**: Memilih variabel yang signifikan untuk membangun model prediksi jumlah total sepeda.\n",
    "\n",
    "**Pemisahan Dataset**: Membagi dataset menjadi set pelatihan dan set pengujian.\n",
    "\n",
    "**Pembangunan Model Regresi**: Menggunakan algoritma regresi untuk memprediksi jumlah total sepeda.\n",
    "\n",
    "**Penyetelan Model**: Penyesuaian hiperparameter untuk meningkatkan kinerja model.\n",
    "\n",
    "**Evaluasi Kinerja**: Menggunakan metrik seperti RMSE, MAPE, R-Squared untuk menilai akurasi prediksi.\n",
    "\n",
    "**Implementasi Model**: Mengintegrasikan model ke dalam sistem untuk memberikan perkiraan jumlah total sepeda secara real-time, dengan fokus pada efisiensi operasional dan optimalisasi sumber daya.\n",
    "\n",
    "\n",
    "\n",
    "\n"
   ]
  },
  {
   "cell_type": "markdown",
   "metadata": {},
   "source": [
    "## Metric Evaluation\n",
    "\n",
    "- RMSE (Root Mean Squared Error):\n",
    "\n",
    "  - Alasan: RMSE yang rendah menunjukkan bahwa model memiliki tingkat akurasi yang tinggi dalam memprediksi jumlah sepeda yang akan dipinjam. Hal ini dapat membantu dalam perencanaan sumber daya dan pengelolaan inventaris, karena perusahaan dapat lebih tepat dalam menentukan berapa banyak sepeda yang harus tersedia di setiap lokasi atau waktu tertentu.\n",
    "  - Contoh: Jika model memiliki RMSE rendah, perusahaan penyewaan sepeda dapat lebih efisien dalam merencanakan jumlah sepeda yang diperlukan di stasiun-stasiun tertentu pada jam-jam sibuk. Misalnya, jika model memprediksi tingkat peminjaman sepeda yang tinggi pada jam puncak pagi, perusahaan dapat meningkatkan persediaan sepeda di stasiun-stasiun tersebut selama periode tersebut.\n",
    "\n",
    "- MAPE (Mean Absolute Percentage Error):\n",
    "\n",
    "  - Alasan: MAPE yang rendah menunjukkan bahwa model memiliki tingkat akurasi yang tinggi dalam memproyeksikan persentase kesalahan dalam prediksi jumlah sepeda. Hal ini dapat membantu dalam perencanaan operasional dan pengelolaan persediaan, karena perusahaan dapat memperkirakan dengan lebih baik tingkat ketidakpastian atau variasi dalam permintaan.\n",
    "  - Contoh: Jika model memiliki MAPE rendah, perusahaan dapat lebih efektif dalam menetapkan kebijakan pengelolaan persediaan. Misalnya, jika model dapat memproyeksikan dengan akurat bahwa permintaan sepeda dapat bervariasi sebesar 10%, perusahaan dapat mengelola persediaan dengan lebih fleksibel untuk mengantisipasi fluktuasi tersebut.\n",
    "\n",
    "- R-squared (R2):\n",
    "\n",
    "  - Alasan: R-squared yang tinggi menunjukkan bahwa model dapat menjelaskan sebagian besar variasi dalam data jumlah sepeda yang dipinjam. \n",
    "  - Contho: Jika model memiliki R-squared yang tinggi, perusahaan dapat menggunakan model ini untuk membuat peramalan jangka panjang tentang tren permintaan sepeda. Misalnya, jika model dapat menjelaskan dengan baik peningkatan permintaan sepeda selama musim panas setiap tahunnya, perusahaan dapat merencanakan strategi pemasaran khusus untuk mengatasi peningkatan tersebut dan meningkatkan kepuasan pelanggan.\n",
    "\n",
    "Dengan menggunakan kombinasi metrik RMSE, MAPE, dan R-squared, kita dapat mengevaluasi model dari berbagai perspektif, termasuk akurasi absolut, akurasi relatif, dan kemampuan model dalam menjelaskan variasi data. Kombinasi metrik ini mendukung tujuan untuk meningkatkan efisiensi operasional dan optimalisasi sumber daya dalam perusahaan penyewaan sepeda.\n"
   ]
  },
  {
   "cell_type": "markdown",
   "metadata": {},
   "source": [
    "## Stakeholders\n",
    "\n",
    "- Manajemen Perusahaan Penyewaan Sepeda:\n",
    "\n",
    "  - Minat: Efisiensi operasional, optimalisasi sumber daya, pengurangan biaya operasional.\n",
    "  - Keuntungan: Keputusan yang lebih baik terkait penempatan sepeda, perawatan sepeda, dan perencanaan sumber daya manusia.\n",
    "\n",
    "- Petugas Operasional dan Logistik:\n",
    "\n",
    "  - Minat: Penempatan sepeda yang efisien, manajemen inventaris yang optimal.\n",
    "  - Keuntungan: Pengurangan kelebihan atau kekurangan stok, perencanaan perawatan sepeda yang lebih efektif."
   ]
  },
  {
   "cell_type": "markdown",
   "metadata": {},
   "source": [
    "# Data Understanding\n",
    "* Dataset mengandung informasi tentang penyewaan sepeda yang di rentalkan dari 2011 sampai 2012\n",
    "* setiap record mencatat kondisi dan volume peminjaman sepeda pada suatu waktu tertentu."
   ]
  },
  {
   "cell_type": "markdown",
   "metadata": {},
   "source": [
    "**Attributes Information**\n",
    " \n",
    "| Kolom      | Deskripsi                                        |\n",
    "|------------|--------------------------------------------------|\n",
    "| dteday   | tanggal (yyyy-mm-dd)          |\n",
    "| hr     | Jam (0 sampai 23) |\n",
    "| season     | Musim dalam setahun (1: musim semi, 2: musim panas, 3: musim gugur, 4: musim dingin) |\n",
    "| holiday    | Hari libur (0: bukan hari libur, 1: hari libur)  |\n",
    "| weathersit    | Kondisi cuaca (1: Cerah, 2: Berawan, 3: Hujan Ringan/Hujan Salju Ringan, 4: Badai) |\n",
    "| temp       | Suhu dalam derajat Celsius                       |\n",
    "| atemp      | Suhu perasaan (suhu merasakan) dalam derajat Celsius |\n",
    "| hum   | Kelembapan relatif                               |\n",
    "| casual     | Jumlah sepeda yang dipinjam oleh penyewa casual  |\n",
    "| registered | Jumlah sepeda yang dipinjam oleh penyewa terdaftar |\n",
    "| cnt      | Jumlah total sepeda yang dipinjam (casual + registered) |\n"
   ]
  },
  {
   "cell_type": "code",
   "execution_count": 1,
   "metadata": {},
   "outputs": [],
   "source": [
    "# Import Dataset\n",
    "import seaborn as sns\n",
    "import pandas as pd\n",
    "import numpy as np\n",
    "import matplotlib.pyplot as plt\n",
    "\n",
    "from statsmodels.stats.outliers_influence import variance_inflation_factor\n",
    "from statsmodels.tools.tools import add_constant\n",
    "\n",
    "import warnings\n",
    "warnings.filterwarnings('ignore')"
   ]
  },
  {
   "cell_type": "code",
   "execution_count": 2,
   "metadata": {},
   "outputs": [],
   "source": [
    "# Load Dataset\n",
    "df = pd.read_csv('data_bike_sharing.csv')"
   ]
  },
  {
   "cell_type": "code",
   "execution_count": 3,
   "metadata": {},
   "outputs": [
    {
     "data": {
      "text/html": [
       "<div>\n",
       "<style scoped>\n",
       "    .dataframe tbody tr th:only-of-type {\n",
       "        vertical-align: middle;\n",
       "    }\n",
       "\n",
       "    .dataframe tbody tr th {\n",
       "        vertical-align: top;\n",
       "    }\n",
       "\n",
       "    .dataframe thead th {\n",
       "        text-align: right;\n",
       "    }\n",
       "</style>\n",
       "<table border=\"1\" class=\"dataframe\">\n",
       "  <thead>\n",
       "    <tr style=\"text-align: right;\">\n",
       "      <th></th>\n",
       "      <th>dteday</th>\n",
       "      <th>hum</th>\n",
       "      <th>weathersit</th>\n",
       "      <th>holiday</th>\n",
       "      <th>season</th>\n",
       "      <th>atemp</th>\n",
       "      <th>temp</th>\n",
       "      <th>hr</th>\n",
       "      <th>casual</th>\n",
       "      <th>registered</th>\n",
       "      <th>cnt</th>\n",
       "    </tr>\n",
       "  </thead>\n",
       "  <tbody>\n",
       "    <tr>\n",
       "      <th>0</th>\n",
       "      <td>2011-12-09</td>\n",
       "      <td>0.62</td>\n",
       "      <td>1</td>\n",
       "      <td>0</td>\n",
       "      <td>4</td>\n",
       "      <td>0.3485</td>\n",
       "      <td>0.36</td>\n",
       "      <td>16</td>\n",
       "      <td>24</td>\n",
       "      <td>226</td>\n",
       "      <td>250</td>\n",
       "    </tr>\n",
       "    <tr>\n",
       "      <th>1</th>\n",
       "      <td>2012-06-17</td>\n",
       "      <td>0.64</td>\n",
       "      <td>1</td>\n",
       "      <td>0</td>\n",
       "      <td>2</td>\n",
       "      <td>0.5152</td>\n",
       "      <td>0.54</td>\n",
       "      <td>4</td>\n",
       "      <td>2</td>\n",
       "      <td>16</td>\n",
       "      <td>18</td>\n",
       "    </tr>\n",
       "    <tr>\n",
       "      <th>2</th>\n",
       "      <td>2011-06-15</td>\n",
       "      <td>0.53</td>\n",
       "      <td>1</td>\n",
       "      <td>0</td>\n",
       "      <td>2</td>\n",
       "      <td>0.6212</td>\n",
       "      <td>0.62</td>\n",
       "      <td>23</td>\n",
       "      <td>17</td>\n",
       "      <td>90</td>\n",
       "      <td>107</td>\n",
       "    </tr>\n",
       "    <tr>\n",
       "      <th>3</th>\n",
       "      <td>2012-03-31</td>\n",
       "      <td>0.87</td>\n",
       "      <td>2</td>\n",
       "      <td>0</td>\n",
       "      <td>2</td>\n",
       "      <td>0.3485</td>\n",
       "      <td>0.36</td>\n",
       "      <td>8</td>\n",
       "      <td>19</td>\n",
       "      <td>126</td>\n",
       "      <td>145</td>\n",
       "    </tr>\n",
       "    <tr>\n",
       "      <th>4</th>\n",
       "      <td>2012-07-31</td>\n",
       "      <td>0.55</td>\n",
       "      <td>1</td>\n",
       "      <td>0</td>\n",
       "      <td>3</td>\n",
       "      <td>0.6970</td>\n",
       "      <td>0.76</td>\n",
       "      <td>18</td>\n",
       "      <td>99</td>\n",
       "      <td>758</td>\n",
       "      <td>857</td>\n",
       "    </tr>\n",
       "  </tbody>\n",
       "</table>\n",
       "</div>"
      ],
      "text/plain": [
       "       dteday   hum  weathersit  holiday  season   atemp  temp  hr  casual  \\\n",
       "0  2011-12-09  0.62           1        0       4  0.3485  0.36  16      24   \n",
       "1  2012-06-17  0.64           1        0       2  0.5152  0.54   4       2   \n",
       "2  2011-06-15  0.53           1        0       2  0.6212  0.62  23      17   \n",
       "3  2012-03-31  0.87           2        0       2  0.3485  0.36   8      19   \n",
       "4  2012-07-31  0.55           1        0       3  0.6970  0.76  18      99   \n",
       "\n",
       "   registered  cnt  \n",
       "0         226  250  \n",
       "1          16   18  \n",
       "2          90  107  \n",
       "3         126  145  \n",
       "4         758  857  "
      ]
     },
     "execution_count": 3,
     "metadata": {},
     "output_type": "execute_result"
    }
   ],
   "source": [
    "# Menampilkan 5 baris pertama pada dataframe\n",
    "df.head()"
   ]
  },
  {
   "cell_type": "code",
   "execution_count": 4,
   "metadata": {},
   "outputs": [
    {
     "name": "stdout",
     "output_type": "stream",
     "text": [
      "<class 'pandas.core.frame.DataFrame'>\n",
      "RangeIndex: 12165 entries, 0 to 12164\n",
      "Data columns (total 11 columns):\n",
      " #   Column      Non-Null Count  Dtype  \n",
      "---  ------      --------------  -----  \n",
      " 0   dteday      12165 non-null  object \n",
      " 1   hum         12165 non-null  float64\n",
      " 2   weathersit  12165 non-null  int64  \n",
      " 3   holiday     12165 non-null  int64  \n",
      " 4   season      12165 non-null  int64  \n",
      " 5   atemp       12165 non-null  float64\n",
      " 6   temp        12165 non-null  float64\n",
      " 7   hr          12165 non-null  int64  \n",
      " 8   casual      12165 non-null  int64  \n",
      " 9   registered  12165 non-null  int64  \n",
      " 10  cnt         12165 non-null  int64  \n",
      "dtypes: float64(3), int64(7), object(1)\n",
      "memory usage: 1.0+ MB\n"
     ]
    }
   ],
   "source": [
    "# info dari dataframe\n",
    "df.info()"
   ]
  },
  {
   "cell_type": "markdown",
   "metadata": {},
   "source": [
    "Terdapat 1265 baris dan 11 kolom yang tidak memiliki missing value"
   ]
  },
  {
   "cell_type": "markdown",
   "metadata": {},
   "source": [
    "### Menampilkan gambaran informasi dari setiap Kolom"
   ]
  },
  {
   "cell_type": "code",
   "execution_count": 5,
   "metadata": {},
   "outputs": [
    {
     "data": {
      "text/html": [
       "<div>\n",
       "<style scoped>\n",
       "    .dataframe tbody tr th:only-of-type {\n",
       "        vertical-align: middle;\n",
       "    }\n",
       "\n",
       "    .dataframe tbody tr th {\n",
       "        vertical-align: top;\n",
       "    }\n",
       "\n",
       "    .dataframe thead th {\n",
       "        text-align: right;\n",
       "    }\n",
       "</style>\n",
       "<table border=\"1\" class=\"dataframe\">\n",
       "  <thead>\n",
       "    <tr style=\"text-align: right;\">\n",
       "      <th></th>\n",
       "      <th>kolom</th>\n",
       "      <th>tipe data</th>\n",
       "      <th>null</th>\n",
       "      <th>null_persentase</th>\n",
       "      <th>jumlah_unik</th>\n",
       "      <th>sample_unik</th>\n",
       "    </tr>\n",
       "  </thead>\n",
       "  <tbody>\n",
       "    <tr>\n",
       "      <th>0</th>\n",
       "      <td>dteday</td>\n",
       "      <td>object</td>\n",
       "      <td>0</td>\n",
       "      <td>0.0</td>\n",
       "      <td>731</td>\n",
       "      <td>[2012-04-05, 2011-09-29, 2011-03-19]</td>\n",
       "    </tr>\n",
       "    <tr>\n",
       "      <th>1</th>\n",
       "      <td>hum</td>\n",
       "      <td>float64</td>\n",
       "      <td>0</td>\n",
       "      <td>0.0</td>\n",
       "      <td>89</td>\n",
       "      <td>[0.65, 0.62, 0.66]</td>\n",
       "    </tr>\n",
       "    <tr>\n",
       "      <th>2</th>\n",
       "      <td>weathersit</td>\n",
       "      <td>int64</td>\n",
       "      <td>0</td>\n",
       "      <td>0.0</td>\n",
       "      <td>4</td>\n",
       "      <td>[1, 2, 1]</td>\n",
       "    </tr>\n",
       "    <tr>\n",
       "      <th>3</th>\n",
       "      <td>holiday</td>\n",
       "      <td>int64</td>\n",
       "      <td>0</td>\n",
       "      <td>0.0</td>\n",
       "      <td>2</td>\n",
       "      <td>[0, 0, 0]</td>\n",
       "    </tr>\n",
       "    <tr>\n",
       "      <th>4</th>\n",
       "      <td>season</td>\n",
       "      <td>int64</td>\n",
       "      <td>0</td>\n",
       "      <td>0.0</td>\n",
       "      <td>4</td>\n",
       "      <td>[2, 2, 3]</td>\n",
       "    </tr>\n",
       "    <tr>\n",
       "      <th>5</th>\n",
       "      <td>atemp</td>\n",
       "      <td>float64</td>\n",
       "      <td>0</td>\n",
       "      <td>0.0</td>\n",
       "      <td>65</td>\n",
       "      <td>[0.4242, 0.6818, 0.4242]</td>\n",
       "    </tr>\n",
       "    <tr>\n",
       "      <th>6</th>\n",
       "      <td>temp</td>\n",
       "      <td>float64</td>\n",
       "      <td>0</td>\n",
       "      <td>0.0</td>\n",
       "      <td>50</td>\n",
       "      <td>[0.58, 0.34, 0.36]</td>\n",
       "    </tr>\n",
       "    <tr>\n",
       "      <th>7</th>\n",
       "      <td>hr</td>\n",
       "      <td>int64</td>\n",
       "      <td>0</td>\n",
       "      <td>0.0</td>\n",
       "      <td>24</td>\n",
       "      <td>[4, 13, 19]</td>\n",
       "    </tr>\n",
       "    <tr>\n",
       "      <th>8</th>\n",
       "      <td>casual</td>\n",
       "      <td>int64</td>\n",
       "      <td>0</td>\n",
       "      <td>0.0</td>\n",
       "      <td>305</td>\n",
       "      <td>[17, 116, 5]</td>\n",
       "    </tr>\n",
       "    <tr>\n",
       "      <th>9</th>\n",
       "      <td>registered</td>\n",
       "      <td>int64</td>\n",
       "      <td>0</td>\n",
       "      <td>0.0</td>\n",
       "      <td>742</td>\n",
       "      <td>[189, 118, 89]</td>\n",
       "    </tr>\n",
       "    <tr>\n",
       "      <th>10</th>\n",
       "      <td>cnt</td>\n",
       "      <td>int64</td>\n",
       "      <td>0</td>\n",
       "      <td>0.0</td>\n",
       "      <td>830</td>\n",
       "      <td>[121, 114, 247]</td>\n",
       "    </tr>\n",
       "  </tbody>\n",
       "</table>\n",
       "</div>"
      ],
      "text/plain": [
       "         kolom tipe data  null  null_persentase  jumlah_unik  \\\n",
       "0       dteday    object     0              0.0          731   \n",
       "1          hum   float64     0              0.0           89   \n",
       "2   weathersit     int64     0              0.0            4   \n",
       "3      holiday     int64     0              0.0            2   \n",
       "4       season     int64     0              0.0            4   \n",
       "5        atemp   float64     0              0.0           65   \n",
       "6         temp   float64     0              0.0           50   \n",
       "7           hr     int64     0              0.0           24   \n",
       "8       casual     int64     0              0.0          305   \n",
       "9   registered     int64     0              0.0          742   \n",
       "10         cnt     int64     0              0.0          830   \n",
       "\n",
       "                             sample_unik  \n",
       "0   [2012-04-05, 2011-09-29, 2011-03-19]  \n",
       "1                     [0.65, 0.62, 0.66]  \n",
       "2                              [1, 2, 1]  \n",
       "3                              [0, 0, 0]  \n",
       "4                              [2, 2, 3]  \n",
       "5               [0.4242, 0.6818, 0.4242]  \n",
       "6                     [0.58, 0.34, 0.36]  \n",
       "7                            [4, 13, 19]  \n",
       "8                           [17, 116, 5]  \n",
       "9                         [189, 118, 89]  \n",
       "10                       [121, 114, 247]  "
      ]
     },
     "execution_count": 5,
     "metadata": {},
     "output_type": "execute_result"
    }
   ],
   "source": [
    "df_description = []\n",
    "\n",
    "for i in df.columns:\n",
    "    df_description.append([i,df[i].dtypes,\n",
    "                    df[i].isna().sum(),\n",
    "                    round((df[i].isna().sum()/len(df)*100),2),\n",
    "                    df[i].nunique(),\n",
    "                    df[i].sample(3).values])\n",
    "\n",
    "df_info = pd.DataFrame(df_description, columns = ['kolom', 'tipe data', 'null', 'null_persentase', 'jumlah_unik','sample_unik'])\n",
    "df_info"
   ]
  },
  {
   "cell_type": "markdown",
   "metadata": {},
   "source": [
    "berdasarkan informasi diatas kolom-kolom tersebut memiliki tipe data float dan integer, kecuali dteday dengan tipe data object (string). berdasarkan beberapa sample nilai dteday berupa tanggal, maka dari itu kita perlu mengubahnya ke tipe data datetime"
   ]
  },
  {
   "cell_type": "markdown",
   "metadata": {},
   "source": [
    "# Data Cleaning & Feature Selection"
   ]
  },
  {
   "cell_type": "code",
   "execution_count": 6,
   "metadata": {},
   "outputs": [
    {
     "data": {
      "text/plain": [
       "dteday        0\n",
       "hum           0\n",
       "weathersit    0\n",
       "holiday       0\n",
       "season        0\n",
       "atemp         0\n",
       "temp          0\n",
       "hr            0\n",
       "casual        0\n",
       "registered    0\n",
       "cnt           0\n",
       "dtype: int64"
      ]
     },
     "execution_count": 6,
     "metadata": {},
     "output_type": "execute_result"
    }
   ],
   "source": [
    "# Checking is there any missing values\n",
    "df.isna().sum()"
   ]
  },
  {
   "cell_type": "code",
   "execution_count": 7,
   "metadata": {},
   "outputs": [
    {
     "data": {
      "text/plain": [
       "0"
      ]
     },
     "execution_count": 7,
     "metadata": {},
     "output_type": "execute_result"
    }
   ],
   "source": [
    "# Checking is there any data duplicates\n",
    "df.duplicated().sum()"
   ]
  },
  {
   "cell_type": "markdown",
   "metadata": {},
   "source": [
    "Tidak ada missing value dan duplikasi data yang terdapat pada dataset tersebut"
   ]
  },
  {
   "cell_type": "markdown",
   "metadata": {},
   "source": [
    "karena tipe data dari kolom dteday berupa object maka perlu diubah ke tipe data datetime agar sesuai dengan nilai dari kolomnya"
   ]
  },
  {
   "cell_type": "code",
   "execution_count": 8,
   "metadata": {},
   "outputs": [],
   "source": [
    "# merubah tipe data kolom dtday\n",
    "df['dteday'] = pd.to_datetime(df['dteday'])"
   ]
  },
  {
   "cell_type": "code",
   "execution_count": 9,
   "metadata": {},
   "outputs": [
    {
     "data": {
      "text/plain": [
       "Text(0.5, 1.0, 'Correlation Matrix')"
      ]
     },
     "execution_count": 9,
     "metadata": {},
     "output_type": "execute_result"
    },
    {
     "data": {
      "image/png": "[encoded data removed]",
      "text/plain": [
       "<Figure size 1500x1200 with 2 Axes>"
      ]
     },
     "metadata": {},
     "output_type": "display_data"
    }
   ],
   "source": [
    "# Correlation matrix\n",
    "plt.figure(figsize=(15, 12))\n",
    "palette=sns.diverging_palette(20, 220, n=256)\n",
    "corr = df.corr(method='spearman')\n",
    "sns.heatmap(corr, annot=True, fmt='.2f', cmap=palette, square=True, linewidths=.5)\n",
    "plt.title('Correlation Matrix', size=15, weight='bold')"
   ]
  },
  {
   "cell_type": "code",
   "execution_count": 10,
   "metadata": {},
   "outputs": [],
   "source": [
    "def calc_vif(X):\n",
    "    dropped_columns = []  # List untuk menyimpan kolom yang dihapus\n",
    "    \n",
    "    while True:\n",
    "        vif_values = [variance_inflation_factor(X.values, i) for i in range(X.shape[1])]\n",
    "        max_vif_index = np.argmax(vif_values)\n",
    "        max_vif = max(vif_values)\n",
    "        \n",
    "        if max_vif >= 4:\n",
    "            column_to_drop = X.columns[max_vif_index]\n",
    "            dropped_columns.append(column_to_drop)  # Menyimpan kolom yang dihapus\n",
    "            X = X.drop(column_to_drop, axis=1)\n",
    "        else:\n",
    "            break\n",
    "\n",
    "    vif_df = pd.DataFrame({\n",
    "        'Feature': X.columns,\n",
    "        'VIF': [variance_inflation_factor(X.values, i) for i in range(X.shape[1])]\n",
    "    })\n",
    "    vif_df['Acceptance'] = np.where(vif_df['VIF'] <= 4, 'Yes', 'No')\n",
    "    \n",
    "    \n",
    "    print(\"Kolom yang dapat dihapus:\")\n",
    "    print(dropped_columns)\n",
    "    \n",
    "    return vif_df"
   ]
  },
  {
   "cell_type": "code",
   "execution_count": 11,
   "metadata": {},
   "outputs": [
    {
     "name": "stdout",
     "output_type": "stream",
     "text": [
      "Kolom yang dapat dihapus:\n",
      "['atemp', 'hum', 'temp', 'season']\n"
     ]
    },
    {
     "data": {
      "text/html": [
       "<div>\n",
       "<style scoped>\n",
       "    .dataframe tbody tr th:only-of-type {\n",
       "        vertical-align: middle;\n",
       "    }\n",
       "\n",
       "    .dataframe tbody tr th {\n",
       "        vertical-align: top;\n",
       "    }\n",
       "\n",
       "    .dataframe thead th {\n",
       "        text-align: right;\n",
       "    }\n",
       "</style>\n",
       "<table border=\"1\" class=\"dataframe\">\n",
       "  <thead>\n",
       "    <tr style=\"text-align: right;\">\n",
       "      <th></th>\n",
       "      <th>Feature</th>\n",
       "      <th>VIF</th>\n",
       "      <th>Acceptance</th>\n",
       "    </tr>\n",
       "  </thead>\n",
       "  <tbody>\n",
       "    <tr>\n",
       "      <th>0</th>\n",
       "      <td>weathersit</td>\n",
       "      <td>2.566310</td>\n",
       "      <td>Yes</td>\n",
       "    </tr>\n",
       "    <tr>\n",
       "      <th>1</th>\n",
       "      <td>holiday</td>\n",
       "      <td>1.032272</td>\n",
       "      <td>Yes</td>\n",
       "    </tr>\n",
       "    <tr>\n",
       "      <th>2</th>\n",
       "      <td>hr</td>\n",
       "      <td>3.738642</td>\n",
       "      <td>Yes</td>\n",
       "    </tr>\n",
       "    <tr>\n",
       "      <th>3</th>\n",
       "      <td>casual</td>\n",
       "      <td>2.109467</td>\n",
       "      <td>Yes</td>\n",
       "    </tr>\n",
       "    <tr>\n",
       "      <th>4</th>\n",
       "      <td>registered</td>\n",
       "      <td>2.891577</td>\n",
       "      <td>Yes</td>\n",
       "    </tr>\n",
       "  </tbody>\n",
       "</table>\n",
       "</div>"
      ],
      "text/plain": [
       "      Feature       VIF Acceptance\n",
       "0  weathersit  2.566310        Yes\n",
       "1     holiday  1.032272        Yes\n",
       "2          hr  3.738642        Yes\n",
       "3      casual  2.109467        Yes\n",
       "4  registered  2.891577        Yes"
      ]
     },
     "execution_count": 11,
     "metadata": {},
     "output_type": "execute_result"
    }
   ],
   "source": [
    "calc_vif(df.drop(columns=['cnt', 'dteday']))"
   ]
  },
  {
   "cell_type": "markdown",
   "metadata": {},
   "source": [
    "terdapat beberapa kolom yang dapat dihapus yaitu 'atemp', 'hum', 'temp', 'season'"
   ]
  },
  {
   "cell_type": "markdown",
   "metadata": {},
   "source": [
    "berdasarkan confusion matrix (sebelum pengecekan vif), kolom atemp dan temp memiliki skor paling tinggi yaitu 0.99 yang berarti terdapat adanya multikolinearitas pada 2 kolom tersebut. Sedangkan untuk korelasi negatif paling tinggi dimiliki oleh feature hum. Hal ini memiliki arti semakin tingginya tingkat kelembapan (hum), maka jumlah penyewaan sepeda semakin sedikit.\n",
    "\n",
    "Kita perlu menyeleksi kolom antara atemp atau temp. Berdasarkan domain knowledge, dimana temp berisikan nilai temperatur yang dibaca oleh termometer, sedangkan atemp berisikan nilai temperatur yang memperhitungkan suhu udara, kelembaban, dan kecepatan angin. maka kita dapat mengngunakan kolom atemp saja dibanding dengan temp. Sedangkan kolom hum dan season secara domain knowledge masih diperlukan."
   ]
  },
  {
   "cell_type": "code",
   "execution_count": 12,
   "metadata": {},
   "outputs": [],
   "source": [
    "df = df.drop(columns='temp')"
   ]
  },
  {
   "cell_type": "markdown",
   "metadata": {},
   "source": [
    "## Menghapus Outlier"
   ]
  },
  {
   "cell_type": "markdown",
   "metadata": {},
   "source": [
    "dilakukan penanganan outlier agar tidak mengganggu hasil prediksi dan modeling. "
   ]
  },
  {
   "cell_type": "code",
   "execution_count": 13,
   "metadata": {},
   "outputs": [
    {
     "data": {
      "image/png": "[encoded data removed]",
      "text/plain": [
       "<Figure size 1500x1000 with 27 Axes>"
      ]
     },
     "metadata": {},
     "output_type": "display_data"
    }
   ],
   "source": [
    "# Check Outliers kolom numerik\n",
    "df_numerik = df.drop(['dteday'],axis=1).select_dtypes(include=[float, int]).columns\n",
    "\n",
    "fig, ax = plt.subplots(ncols=9, nrows=len(df_numerik)//3, figsize=(15,10))\n",
    "index = 0\n",
    "ax = ax.flatten()\n",
    "\n",
    "for kolom in df_numerik:\n",
    "    sns.boxplot(y=kolom, data=df, ax=ax[index])\n",
    "    index += 1\n",
    "\n",
    "plt.tight_layout(pad=0.5, w_pad=0.7, h_pad=5.0)\n",
    "\n",
    "plt.show()"
   ]
  },
  {
   "cell_type": "markdown",
   "metadata": {},
   "source": [
    "Boxplot diatas menunjukkan bahwa kolom hum, weathersit, casual, registered, cnt memiliki outlier. Pada kolom casual dan registered tidak dilakukan penanganan outlier dikarenakan kolom tersebut merupakan sub fitur dari kolom cnt maka tidak digunakan pada model ini (dihapus)."
   ]
  },
  {
   "cell_type": "code",
   "execution_count": 14,
   "metadata": {},
   "outputs": [],
   "source": [
    "# Hitung Q1 dan Q3\n",
    "Q1 = df['cnt'].quantile(0.25)\n",
    "Q3 = df['cnt'].quantile(0.75)\n",
    "\n",
    "# Hitung IQR\n",
    "IQR = Q3 - Q1\n",
    "\n",
    "# Tentukan batas bawah dan atas untuk mengidentifikasi outlier\n",
    "lower_bound = Q1 - 1.5 * IQR\n",
    "upper_bound = Q3 + 1.5 * IQR\n",
    "\n",
    "# Hapus outlier dari dataset\n",
    "df = df[(df['cnt'] >= lower_bound) & (df['cnt'] <= upper_bound)]\n"
   ]
  },
  {
   "cell_type": "markdown",
   "metadata": {},
   "source": [
    "### Outlier kolom `holiday`"
   ]
  },
  {
   "cell_type": "code",
   "execution_count": 15,
   "metadata": {},
   "outputs": [
    {
     "data": {
      "text/html": [
       "<div>\n",
       "<style scoped>\n",
       "    .dataframe tbody tr th:only-of-type {\n",
       "        vertical-align: middle;\n",
       "    }\n",
       "\n",
       "    .dataframe tbody tr th {\n",
       "        vertical-align: top;\n",
       "    }\n",
       "\n",
       "    .dataframe thead th {\n",
       "        text-align: right;\n",
       "    }\n",
       "</style>\n",
       "<table border=\"1\" class=\"dataframe\">\n",
       "  <thead>\n",
       "    <tr style=\"text-align: right;\">\n",
       "      <th></th>\n",
       "      <th>dteday</th>\n",
       "      <th>hum</th>\n",
       "      <th>weathersit</th>\n",
       "      <th>holiday</th>\n",
       "      <th>season</th>\n",
       "      <th>atemp</th>\n",
       "      <th>hr</th>\n",
       "      <th>casual</th>\n",
       "      <th>registered</th>\n",
       "      <th>cnt</th>\n",
       "    </tr>\n",
       "  </thead>\n",
       "  <tbody>\n",
       "    <tr>\n",
       "      <th>0</th>\n",
       "      <td>2011-12-09</td>\n",
       "      <td>0.62</td>\n",
       "      <td>1</td>\n",
       "      <td>0</td>\n",
       "      <td>4</td>\n",
       "      <td>0.3485</td>\n",
       "      <td>16</td>\n",
       "      <td>24</td>\n",
       "      <td>226</td>\n",
       "      <td>250</td>\n",
       "    </tr>\n",
       "    <tr>\n",
       "      <th>1</th>\n",
       "      <td>2012-06-17</td>\n",
       "      <td>0.64</td>\n",
       "      <td>1</td>\n",
       "      <td>0</td>\n",
       "      <td>2</td>\n",
       "      <td>0.5152</td>\n",
       "      <td>4</td>\n",
       "      <td>2</td>\n",
       "      <td>16</td>\n",
       "      <td>18</td>\n",
       "    </tr>\n",
       "    <tr>\n",
       "      <th>2</th>\n",
       "      <td>2011-06-15</td>\n",
       "      <td>0.53</td>\n",
       "      <td>1</td>\n",
       "      <td>0</td>\n",
       "      <td>2</td>\n",
       "      <td>0.6212</td>\n",
       "      <td>23</td>\n",
       "      <td>17</td>\n",
       "      <td>90</td>\n",
       "      <td>107</td>\n",
       "    </tr>\n",
       "    <tr>\n",
       "      <th>3</th>\n",
       "      <td>2012-03-31</td>\n",
       "      <td>0.87</td>\n",
       "      <td>2</td>\n",
       "      <td>0</td>\n",
       "      <td>2</td>\n",
       "      <td>0.3485</td>\n",
       "      <td>8</td>\n",
       "      <td>19</td>\n",
       "      <td>126</td>\n",
       "      <td>145</td>\n",
       "    </tr>\n",
       "    <tr>\n",
       "      <th>5</th>\n",
       "      <td>2012-10-01</td>\n",
       "      <td>0.72</td>\n",
       "      <td>1</td>\n",
       "      <td>0</td>\n",
       "      <td>4</td>\n",
       "      <td>0.4545</td>\n",
       "      <td>0</td>\n",
       "      <td>6</td>\n",
       "      <td>39</td>\n",
       "      <td>45</td>\n",
       "    </tr>\n",
       "    <tr>\n",
       "      <th>...</th>\n",
       "      <td>...</td>\n",
       "      <td>...</td>\n",
       "      <td>...</td>\n",
       "      <td>...</td>\n",
       "      <td>...</td>\n",
       "      <td>...</td>\n",
       "      <td>...</td>\n",
       "      <td>...</td>\n",
       "      <td>...</td>\n",
       "      <td>...</td>\n",
       "    </tr>\n",
       "    <tr>\n",
       "      <th>12159</th>\n",
       "      <td>2012-08-16</td>\n",
       "      <td>0.54</td>\n",
       "      <td>1</td>\n",
       "      <td>0</td>\n",
       "      <td>3</td>\n",
       "      <td>0.6667</td>\n",
       "      <td>9</td>\n",
       "      <td>41</td>\n",
       "      <td>296</td>\n",
       "      <td>337</td>\n",
       "    </tr>\n",
       "    <tr>\n",
       "      <th>12160</th>\n",
       "      <td>2012-01-25</td>\n",
       "      <td>0.75</td>\n",
       "      <td>1</td>\n",
       "      <td>0</td>\n",
       "      <td>1</td>\n",
       "      <td>0.2273</td>\n",
       "      <td>7</td>\n",
       "      <td>14</td>\n",
       "      <td>243</td>\n",
       "      <td>257</td>\n",
       "    </tr>\n",
       "    <tr>\n",
       "      <th>12161</th>\n",
       "      <td>2012-07-06</td>\n",
       "      <td>0.62</td>\n",
       "      <td>1</td>\n",
       "      <td>0</td>\n",
       "      <td>3</td>\n",
       "      <td>0.7424</td>\n",
       "      <td>0</td>\n",
       "      <td>39</td>\n",
       "      <td>63</td>\n",
       "      <td>102</td>\n",
       "    </tr>\n",
       "    <tr>\n",
       "      <th>12163</th>\n",
       "      <td>2012-03-31</td>\n",
       "      <td>0.77</td>\n",
       "      <td>2</td>\n",
       "      <td>0</td>\n",
       "      <td>2</td>\n",
       "      <td>0.4242</td>\n",
       "      <td>2</td>\n",
       "      <td>14</td>\n",
       "      <td>55</td>\n",
       "      <td>69</td>\n",
       "    </tr>\n",
       "    <tr>\n",
       "      <th>12164</th>\n",
       "      <td>2011-04-28</td>\n",
       "      <td>0.47</td>\n",
       "      <td>1</td>\n",
       "      <td>0</td>\n",
       "      <td>2</td>\n",
       "      <td>0.6212</td>\n",
       "      <td>18</td>\n",
       "      <td>44</td>\n",
       "      <td>486</td>\n",
       "      <td>530</td>\n",
       "    </tr>\n",
       "  </tbody>\n",
       "</table>\n",
       "<p>11466 rows × 10 columns</p>\n",
       "</div>"
      ],
      "text/plain": [
       "          dteday   hum  weathersit  holiday  season   atemp  hr  casual  \\\n",
       "0     2011-12-09  0.62           1        0       4  0.3485  16      24   \n",
       "1     2012-06-17  0.64           1        0       2  0.5152   4       2   \n",
       "2     2011-06-15  0.53           1        0       2  0.6212  23      17   \n",
       "3     2012-03-31  0.87           2        0       2  0.3485   8      19   \n",
       "5     2012-10-01  0.72           1        0       4  0.4545   0       6   \n",
       "...          ...   ...         ...      ...     ...     ...  ..     ...   \n",
       "12159 2012-08-16  0.54           1        0       3  0.6667   9      41   \n",
       "12160 2012-01-25  0.75           1        0       1  0.2273   7      14   \n",
       "12161 2012-07-06  0.62           1        0       3  0.7424   0      39   \n",
       "12163 2012-03-31  0.77           2        0       2  0.4242   2      14   \n",
       "12164 2011-04-28  0.47           1        0       2  0.6212  18      44   \n",
       "\n",
       "       registered  cnt  \n",
       "0             226  250  \n",
       "1              16   18  \n",
       "2              90  107  \n",
       "3             126  145  \n",
       "5              39   45  \n",
       "...           ...  ...  \n",
       "12159         296  337  \n",
       "12160         243  257  \n",
       "12161          63  102  \n",
       "12163          55   69  \n",
       "12164         486  530  \n",
       "\n",
       "[11466 rows x 10 columns]"
      ]
     },
     "execution_count": 15,
     "metadata": {},
     "output_type": "execute_result"
    }
   ],
   "source": [
    "# Hitung Q1 dan Q3\n",
    "Q1_holiday = df['holiday'].quantile(0.25)\n",
    "Q3_holiday = df['holiday'].quantile(0.75)\n",
    "\n",
    "# Hitung IQR\n",
    "IQR = Q3_holiday - Q1_holiday\n",
    "\n",
    "# Tentukan batas bawah dan atas untuk mengidentifikasi outlier\n",
    "lower_bound = Q1_holiday - 1.5 * IQR\n",
    "upper_bound = Q3_holiday + 1.5 * IQR\n",
    "\n",
    "# Menampilkan outlier dari dataset\n",
    "holiday_outlier = df[(df['holiday'] <= lower_bound) & (df['holiday'] >= upper_bound)]\n",
    "holiday_outlier\n"
   ]
  },
  {
   "cell_type": "code",
   "execution_count": 16,
   "metadata": {},
   "outputs": [],
   "source": [
    "# Hapus outlier dari dataset\n",
    "df = df[(df['holiday'] >= lower_bound) & (df['holiday'] <= upper_bound)]"
   ]
  },
  {
   "cell_type": "markdown",
   "metadata": {},
   "source": [
    "### Outlier kolom `weathersit`"
   ]
  },
  {
   "cell_type": "code",
   "execution_count": 17,
   "metadata": {},
   "outputs": [
    {
     "data": {
      "text/plain": [
       "weathersit\n",
       "1    7551\n",
       "2    2958\n",
       "3     954\n",
       "4       3\n",
       "Name: count, dtype: int64"
      ]
     },
     "execution_count": 17,
     "metadata": {},
     "output_type": "execute_result"
    }
   ],
   "source": [
    "df['weathersit'].value_counts()"
   ]
  },
  {
   "cell_type": "markdown",
   "metadata": {},
   "source": [
    "dapat dilihat pada value diatas, terdapat outlier pada kolom weathersit yang nilainya sangat jauh"
   ]
  },
  {
   "cell_type": "code",
   "execution_count": 18,
   "metadata": {},
   "outputs": [],
   "source": [
    "# Hitung Q1 dan Q3\n",
    "Q1_weathersit = df['weathersit'].quantile(0.25)\n",
    "Q3_weathersit = df['weathersit'].quantile(0.75)\n",
    "\n",
    "# Hitung IQR\n",
    "IQR = Q3_weathersit - Q1_weathersit\n",
    "\n",
    "# Tentukan batas bawah dan atas untuk mengidentifikasi outlier\n",
    "lower_bound = Q1_weathersit - 1.5 * IQR\n",
    "upper_bound = Q3_weathersit + 1.5 * IQR\n",
    "\n",
    "# Hapus outlier dari dataset\n",
    "df = df[(df['weathersit'] >= lower_bound) & (df['weathersit'] <= upper_bound)]\n"
   ]
  },
  {
   "cell_type": "code",
   "execution_count": 19,
   "metadata": {},
   "outputs": [
    {
     "data": {
      "text/plain": [
       "weathersit\n",
       "1    7551\n",
       "2    2958\n",
       "3     954\n",
       "Name: count, dtype: int64"
      ]
     },
     "execution_count": 19,
     "metadata": {},
     "output_type": "execute_result"
    }
   ],
   "source": [
    "df['weathersit'].value_counts()"
   ]
  },
  {
   "cell_type": "markdown",
   "metadata": {},
   "source": [
    "### Outlier kolom `hum`"
   ]
  },
  {
   "cell_type": "markdown",
   "metadata": {},
   "source": [
    "terdapat kelembapan (`hum`) yang memiliki nilai 0 yang berarti tidak wajar jika terjadi. karena kelembapan memiliki relasi dengan musim (season) dan cuaca (weathersit) maka kita dapat mengisinya menggunakan median berdasarkan musim dan cuaca saat itu"
   ]
  },
  {
   "cell_type": "code",
   "execution_count": 20,
   "metadata": {},
   "outputs": [
    {
     "data": {
      "text/html": [
       "<div>\n",
       "<style scoped>\n",
       "    .dataframe tbody tr th:only-of-type {\n",
       "        vertical-align: middle;\n",
       "    }\n",
       "\n",
       "    .dataframe tbody tr th {\n",
       "        vertical-align: top;\n",
       "    }\n",
       "\n",
       "    .dataframe thead th {\n",
       "        text-align: right;\n",
       "    }\n",
       "</style>\n",
       "<table border=\"1\" class=\"dataframe\">\n",
       "  <thead>\n",
       "    <tr style=\"text-align: right;\">\n",
       "      <th></th>\n",
       "      <th>dteday</th>\n",
       "      <th>hum</th>\n",
       "      <th>weathersit</th>\n",
       "      <th>holiday</th>\n",
       "      <th>season</th>\n",
       "      <th>atemp</th>\n",
       "      <th>hr</th>\n",
       "      <th>casual</th>\n",
       "      <th>registered</th>\n",
       "      <th>cnt</th>\n",
       "    </tr>\n",
       "  </thead>\n",
       "  <tbody>\n",
       "  </tbody>\n",
       "</table>\n",
       "</div>"
      ],
      "text/plain": [
       "Empty DataFrame\n",
       "Columns: [dteday, hum, weathersit, holiday, season, atemp, hr, casual, registered, cnt]\n",
       "Index: []"
      ]
     },
     "execution_count": 20,
     "metadata": {},
     "output_type": "execute_result"
    }
   ],
   "source": [
    "# Hitung Q1 dan Q3\n",
    "Q1_hum = df['hum'].quantile(0.25)\n",
    "Q3_hum = df['hum'].quantile(0.75)\n",
    "\n",
    "# Hitung IQR\n",
    "IQR = Q3_hum - Q1_hum\n",
    "\n",
    "# Tentukan batas bawah dan atas untuk mengidentifikasi outlier\n",
    "lower_bound = Q1_hum - 1.5 * IQR\n",
    "upper_bound = Q3_hum + 1.5 * IQR\n",
    "\n",
    "# Hapus outlier dari dataset\n",
    "hum_outlier = df[(df['hum'] <= lower_bound) & (df['hum'] >= upper_bound)]\n",
    "hum_outlier\n"
   ]
  },
  {
   "cell_type": "code",
   "execution_count": 21,
   "metadata": {},
   "outputs": [],
   "source": [
    "# mengganti nilai 0 pada hum\n",
    "df['hum'] = df.groupby(['season', 'weathersit'])['hum'].transform(lambda x: x.replace(0, x.median()))"
   ]
  },
  {
   "cell_type": "code",
   "execution_count": 22,
   "metadata": {},
   "outputs": [
    {
     "data": {
      "text/html": [
       "<div>\n",
       "<style scoped>\n",
       "    .dataframe tbody tr th:only-of-type {\n",
       "        vertical-align: middle;\n",
       "    }\n",
       "\n",
       "    .dataframe tbody tr th {\n",
       "        vertical-align: top;\n",
       "    }\n",
       "\n",
       "    .dataframe thead th {\n",
       "        text-align: right;\n",
       "    }\n",
       "</style>\n",
       "<table border=\"1\" class=\"dataframe\">\n",
       "  <thead>\n",
       "    <tr style=\"text-align: right;\">\n",
       "      <th></th>\n",
       "      <th>dteday</th>\n",
       "      <th>hum</th>\n",
       "      <th>weathersit</th>\n",
       "      <th>holiday</th>\n",
       "      <th>season</th>\n",
       "      <th>atemp</th>\n",
       "      <th>hr</th>\n",
       "      <th>casual</th>\n",
       "      <th>registered</th>\n",
       "      <th>cnt</th>\n",
       "    </tr>\n",
       "  </thead>\n",
       "  <tbody>\n",
       "  </tbody>\n",
       "</table>\n",
       "</div>"
      ],
      "text/plain": [
       "Empty DataFrame\n",
       "Columns: [dteday, hum, weathersit, holiday, season, atemp, hr, casual, registered, cnt]\n",
       "Index: []"
      ]
     },
     "execution_count": 22,
     "metadata": {},
     "output_type": "execute_result"
    }
   ],
   "source": [
    "df[df['hum']==0] # sesudah diganti"
   ]
  },
  {
   "cell_type": "markdown",
   "metadata": {},
   "source": [
    "## Extract date"
   ]
  },
  {
   "cell_type": "markdown",
   "metadata": {},
   "source": [
    "dilakukan penambahan fitur dengan mengekstrak dari kolom dteday yang bertujuan untuk mengetahui tanggal, bulan, tahun, hari, dan hari kerja sehingga dapat memperkaya fitur dalam training menggunakan machine learning"
   ]
  },
  {
   "cell_type": "code",
   "execution_count": 23,
   "metadata": {},
   "outputs": [],
   "source": [
    "# Membuat kolom tanggal\n",
    "df['tanggal'] = df['dteday'].dt.day"
   ]
  },
  {
   "cell_type": "code",
   "execution_count": 24,
   "metadata": {},
   "outputs": [],
   "source": [
    "# Membuat kolom bulan\n",
    "df['bulan'] = df['dteday'].dt.month"
   ]
  },
  {
   "cell_type": "code",
   "execution_count": 25,
   "metadata": {},
   "outputs": [],
   "source": [
    "# Membuat kolom tahun\n",
    "df['tahun'] = df['dteday'].dt.year"
   ]
  },
  {
   "cell_type": "code",
   "execution_count": 26,
   "metadata": {},
   "outputs": [],
   "source": [
    "# Membuat kolom nama hari\n",
    "df['hari'] = df['dteday'].dt.strftime('%A')"
   ]
  },
  {
   "cell_type": "code",
   "execution_count": 27,
   "metadata": {},
   "outputs": [],
   "source": [
    "# membuat kolom hari kerja\n",
    "df['weekday'] = 1\n",
    "\n",
    "# Kemudian ubah nilai menjadi 0 jika 'day_name' adalah 'Saturday' atau 'Sunday'\n",
    "df.loc[(df['hari'] == 'Saturday') | (df['hari'] == 'Sunday'), 'weekday'] = 0"
   ]
  },
  {
   "cell_type": "code",
   "execution_count": 28,
   "metadata": {},
   "outputs": [
    {
     "data": {
      "text/html": [
       "<div>\n",
       "<style scoped>\n",
       "    .dataframe tbody tr th:only-of-type {\n",
       "        vertical-align: middle;\n",
       "    }\n",
       "\n",
       "    .dataframe tbody tr th {\n",
       "        vertical-align: top;\n",
       "    }\n",
       "\n",
       "    .dataframe thead th {\n",
       "        text-align: right;\n",
       "    }\n",
       "</style>\n",
       "<table border=\"1\" class=\"dataframe\">\n",
       "  <thead>\n",
       "    <tr style=\"text-align: right;\">\n",
       "      <th></th>\n",
       "      <th>dteday</th>\n",
       "      <th>hum</th>\n",
       "      <th>weathersit</th>\n",
       "      <th>holiday</th>\n",
       "      <th>season</th>\n",
       "      <th>atemp</th>\n",
       "      <th>hr</th>\n",
       "      <th>casual</th>\n",
       "      <th>registered</th>\n",
       "      <th>cnt</th>\n",
       "      <th>tanggal</th>\n",
       "      <th>bulan</th>\n",
       "      <th>tahun</th>\n",
       "      <th>hari</th>\n",
       "      <th>weekday</th>\n",
       "    </tr>\n",
       "  </thead>\n",
       "  <tbody>\n",
       "  </tbody>\n",
       "</table>\n",
       "</div>"
      ],
      "text/plain": [
       "Empty DataFrame\n",
       "Columns: [dteday, hum, weathersit, holiday, season, atemp, hr, casual, registered, cnt, tanggal, bulan, tahun, hari, weekday]\n",
       "Index: []"
      ]
     },
     "execution_count": 28,
     "metadata": {},
     "output_type": "execute_result"
    }
   ],
   "source": [
    "df[df['tanggal'] > 31]"
   ]
  },
  {
   "cell_type": "code",
   "execution_count": 29,
   "metadata": {},
   "outputs": [
    {
     "data": {
      "text/html": [
       "<div>\n",
       "<style scoped>\n",
       "    .dataframe tbody tr th:only-of-type {\n",
       "        vertical-align: middle;\n",
       "    }\n",
       "\n",
       "    .dataframe tbody tr th {\n",
       "        vertical-align: top;\n",
       "    }\n",
       "\n",
       "    .dataframe thead th {\n",
       "        text-align: right;\n",
       "    }\n",
       "</style>\n",
       "<table border=\"1\" class=\"dataframe\">\n",
       "  <thead>\n",
       "    <tr style=\"text-align: right;\">\n",
       "      <th></th>\n",
       "      <th>dteday</th>\n",
       "      <th>hum</th>\n",
       "      <th>weathersit</th>\n",
       "      <th>holiday</th>\n",
       "      <th>season</th>\n",
       "      <th>atemp</th>\n",
       "      <th>hr</th>\n",
       "      <th>casual</th>\n",
       "      <th>registered</th>\n",
       "      <th>cnt</th>\n",
       "      <th>tanggal</th>\n",
       "      <th>bulan</th>\n",
       "      <th>tahun</th>\n",
       "      <th>hari</th>\n",
       "      <th>weekday</th>\n",
       "    </tr>\n",
       "  </thead>\n",
       "  <tbody>\n",
       "  </tbody>\n",
       "</table>\n",
       "</div>"
      ],
      "text/plain": [
       "Empty DataFrame\n",
       "Columns: [dteday, hum, weathersit, holiday, season, atemp, hr, casual, registered, cnt, tanggal, bulan, tahun, hari, weekday]\n",
       "Index: []"
      ]
     },
     "execution_count": 29,
     "metadata": {},
     "output_type": "execute_result"
    }
   ],
   "source": [
    "df[df['bulan'] > 12]"
   ]
  },
  {
   "cell_type": "code",
   "execution_count": 30,
   "metadata": {},
   "outputs": [
    {
     "data": {
      "text/html": [
       "<div>\n",
       "<style scoped>\n",
       "    .dataframe tbody tr th:only-of-type {\n",
       "        vertical-align: middle;\n",
       "    }\n",
       "\n",
       "    .dataframe tbody tr th {\n",
       "        vertical-align: top;\n",
       "    }\n",
       "\n",
       "    .dataframe thead th {\n",
       "        text-align: right;\n",
       "    }\n",
       "</style>\n",
       "<table border=\"1\" class=\"dataframe\">\n",
       "  <thead>\n",
       "    <tr style=\"text-align: right;\">\n",
       "      <th></th>\n",
       "      <th>dteday</th>\n",
       "      <th>hum</th>\n",
       "      <th>weathersit</th>\n",
       "      <th>holiday</th>\n",
       "      <th>season</th>\n",
       "      <th>atemp</th>\n",
       "      <th>hr</th>\n",
       "      <th>casual</th>\n",
       "      <th>registered</th>\n",
       "      <th>cnt</th>\n",
       "      <th>tanggal</th>\n",
       "      <th>bulan</th>\n",
       "      <th>tahun</th>\n",
       "      <th>hari</th>\n",
       "      <th>weekday</th>\n",
       "    </tr>\n",
       "  </thead>\n",
       "  <tbody>\n",
       "    <tr>\n",
       "      <th>0</th>\n",
       "      <td>2011-12-09</td>\n",
       "      <td>0.62</td>\n",
       "      <td>1</td>\n",
       "      <td>0</td>\n",
       "      <td>4</td>\n",
       "      <td>0.3485</td>\n",
       "      <td>16</td>\n",
       "      <td>24</td>\n",
       "      <td>226</td>\n",
       "      <td>250</td>\n",
       "      <td>9</td>\n",
       "      <td>12</td>\n",
       "      <td>2011</td>\n",
       "      <td>Friday</td>\n",
       "      <td>1</td>\n",
       "    </tr>\n",
       "    <tr>\n",
       "      <th>1</th>\n",
       "      <td>2012-06-17</td>\n",
       "      <td>0.64</td>\n",
       "      <td>1</td>\n",
       "      <td>0</td>\n",
       "      <td>2</td>\n",
       "      <td>0.5152</td>\n",
       "      <td>4</td>\n",
       "      <td>2</td>\n",
       "      <td>16</td>\n",
       "      <td>18</td>\n",
       "      <td>17</td>\n",
       "      <td>6</td>\n",
       "      <td>2012</td>\n",
       "      <td>Sunday</td>\n",
       "      <td>0</td>\n",
       "    </tr>\n",
       "    <tr>\n",
       "      <th>2</th>\n",
       "      <td>2011-06-15</td>\n",
       "      <td>0.53</td>\n",
       "      <td>1</td>\n",
       "      <td>0</td>\n",
       "      <td>2</td>\n",
       "      <td>0.6212</td>\n",
       "      <td>23</td>\n",
       "      <td>17</td>\n",
       "      <td>90</td>\n",
       "      <td>107</td>\n",
       "      <td>15</td>\n",
       "      <td>6</td>\n",
       "      <td>2011</td>\n",
       "      <td>Wednesday</td>\n",
       "      <td>1</td>\n",
       "    </tr>\n",
       "    <tr>\n",
       "      <th>3</th>\n",
       "      <td>2012-03-31</td>\n",
       "      <td>0.87</td>\n",
       "      <td>2</td>\n",
       "      <td>0</td>\n",
       "      <td>2</td>\n",
       "      <td>0.3485</td>\n",
       "      <td>8</td>\n",
       "      <td>19</td>\n",
       "      <td>126</td>\n",
       "      <td>145</td>\n",
       "      <td>31</td>\n",
       "      <td>3</td>\n",
       "      <td>2012</td>\n",
       "      <td>Saturday</td>\n",
       "      <td>0</td>\n",
       "    </tr>\n",
       "    <tr>\n",
       "      <th>5</th>\n",
       "      <td>2012-10-01</td>\n",
       "      <td>0.72</td>\n",
       "      <td>1</td>\n",
       "      <td>0</td>\n",
       "      <td>4</td>\n",
       "      <td>0.4545</td>\n",
       "      <td>0</td>\n",
       "      <td>6</td>\n",
       "      <td>39</td>\n",
       "      <td>45</td>\n",
       "      <td>1</td>\n",
       "      <td>10</td>\n",
       "      <td>2012</td>\n",
       "      <td>Monday</td>\n",
       "      <td>1</td>\n",
       "    </tr>\n",
       "  </tbody>\n",
       "</table>\n",
       "</div>"
      ],
      "text/plain": [
       "      dteday   hum  weathersit  holiday  season   atemp  hr  casual  \\\n",
       "0 2011-12-09  0.62           1        0       4  0.3485  16      24   \n",
       "1 2012-06-17  0.64           1        0       2  0.5152   4       2   \n",
       "2 2011-06-15  0.53           1        0       2  0.6212  23      17   \n",
       "3 2012-03-31  0.87           2        0       2  0.3485   8      19   \n",
       "5 2012-10-01  0.72           1        0       4  0.4545   0       6   \n",
       "\n",
       "   registered  cnt  tanggal  bulan  tahun       hari  weekday  \n",
       "0         226  250        9     12   2011     Friday        1  \n",
       "1          16   18       17      6   2012     Sunday        0  \n",
       "2          90  107       15      6   2011  Wednesday        1  \n",
       "3         126  145       31      3   2012   Saturday        0  \n",
       "5          39   45        1     10   2012     Monday        1  "
      ]
     },
     "execution_count": 30,
     "metadata": {},
     "output_type": "execute_result"
    }
   ],
   "source": [
    "df.head()"
   ]
  },
  {
   "cell_type": "markdown",
   "metadata": {},
   "source": [
    "## Feature Selection"
   ]
  },
  {
   "cell_type": "code",
   "execution_count": 31,
   "metadata": {},
   "outputs": [],
   "source": [
    "# Dropping registered and casual features\n",
    "df.drop(columns=['registered', 'casual'], inplace=True)"
   ]
  },
  {
   "cell_type": "markdown",
   "metadata": {},
   "source": [
    "dilakukan penghapusan fitur registered dan casual karena kedua fitur tersebut merupakan sub fitur dari target (`cnt`).\n",
    "cnt = registered + casual"
   ]
  },
  {
   "cell_type": "code",
   "execution_count": 32,
   "metadata": {},
   "outputs": [],
   "source": [
    "# Dropping dateday features\n",
    "df.drop(columns=['dteday'], inplace=True)"
   ]
  },
  {
   "cell_type": "markdown",
   "metadata": {},
   "source": [
    "dilakukan penghapusan fitur dteday karena kolom tersebut sudah di ekstrak menjadi kolom yang baru sehingga kolom ini menjadi tidak berguna"
   ]
  },
  {
   "cell_type": "markdown",
   "metadata": {},
   "source": [
    "# Modelling"
   ]
  },
  {
   "cell_type": "code",
   "execution_count": 33,
   "metadata": {},
   "outputs": [],
   "source": [
    "from scipy.stats import randint, uniform\n",
    "from sklearn.preprocessing import OneHotEncoder, RobustScaler, StandardScaler\n",
    "from sklearn.model_selection import cross_val_score, RandomizedSearchCV, TimeSeriesSplit\n",
    "from sklearn.linear_model import LinearRegression, Ridge, Lasso\n",
    "from sklearn.compose import ColumnTransformer\n",
    "from sklearn.pipeline import Pipeline\n",
    "from sklearn.metrics import mean_squared_error, mean_absolute_error, mean_absolute_percentage_error\n",
    "from sklearn.ensemble import RandomForestRegressor, AdaBoostRegressor\n",
    "from sklearn.tree import DecisionTreeRegressor\n",
    "from xgboost.sklearn import XGBRegressor\n",
    "import category_encoders as ce "
   ]
  },
  {
   "cell_type": "code",
   "execution_count": 34,
   "metadata": {},
   "outputs": [],
   "source": [
    "# Seperate the independent variable from the target\n",
    "X = df.drop(columns=['cnt'])\n",
    "y = df['cnt']"
   ]
  },
  {
   "cell_type": "markdown",
   "metadata": {},
   "source": [
    "## Feature Engineering"
   ]
  },
  {
   "cell_type": "code",
   "execution_count": 35,
   "metadata": {},
   "outputs": [
    {
     "data": {
      "text/plain": [
       "Index(['hum', 'weathersit', 'holiday', 'season', 'atemp', 'hr', 'tanggal',\n",
       "       'bulan', 'tahun', 'weekday'],\n",
       "      dtype='object')"
      ]
     },
     "execution_count": 35,
     "metadata": {},
     "output_type": "execute_result"
    }
   ],
   "source": [
    "# Memilih kolom numerik\n",
    "kolom_numerik = X.select_dtypes(include=['number']).columns\n",
    "kolom_numerik"
   ]
  },
  {
   "cell_type": "code",
   "execution_count": 36,
   "metadata": {},
   "outputs": [],
   "source": [
    "# Transform every categorical columns into numerical\n",
    "transformer = ColumnTransformer([\n",
    "    # (\"scaling\", RobustScaler(), kolom_numerik),\n",
    "    (\"onehot\", OneHotEncoder(), ['tahun','bulan','tanggal','weathersit','weekday', 'hari']),\n",
    "    ('binary', ce.BinaryEncoder(), ['hari'])\n",
    "    ,\n",
    "],remainder='passthrough')"
   ]
  },
  {
   "cell_type": "code",
   "execution_count": 37,
   "metadata": {},
   "outputs": [],
   "source": [
    "from sklearn.model_selection import train_test_split\n",
    "# Pisahkan dataset menjadi data latih dan data uji\n",
    "X_train, X_test, y_train, y_test = train_test_split(X, y, test_size=0.2, random_state=42)"
   ]
  },
  {
   "cell_type": "markdown",
   "metadata": {},
   "source": [
    "**Choose a Benchmark Model**"
   ]
  },
  {
   "cell_type": "code",
   "execution_count": 38,
   "metadata": {},
   "outputs": [],
   "source": [
    "from sklearn.linear_model import LinearRegression\n",
    "from sklearn.neighbors import KNeighborsRegressor\n",
    "from sklearn.tree import DecisionTreeRegressor\n",
    "from sklearn.ensemble import RandomForestRegressor\n",
    "from xgboost.sklearn import XGBRegressor\n",
    "from sklearn.compose import TransformedTargetRegressor\n",
    "from sklearn.model_selection import train_test_split, cross_val_score, RandomizedSearchCV, GridSearchCV, KFold"
   ]
  },
  {
   "cell_type": "code",
   "execution_count": 39,
   "metadata": {},
   "outputs": [
    {
     "name": "stdout",
     "output_type": "stream",
     "text": [
      "                   Model  RMSE Std Dev   RMSE Mean  MAE Std Dev  MAE Mean  \\\n",
      "0       LinearRegression      1.463643 -120.517447     0.008995  0.398738   \n",
      "1                  Ridge      1.470693 -120.516106     0.009044  0.398752   \n",
      "2                  Lasso      1.719402 -121.257548     0.009791  0.391353   \n",
      "3  RandomForestRegressor      3.365108  -53.946621     0.012964  0.879333   \n",
      "4           XGBRegressor      0.901166  -39.559151     0.004232  0.935109   \n",
      "5      AdaBoostRegressor      2.045352  -41.351691     0.006252  0.929113   \n",
      "\n",
      "   MAPE Std Dev  MAPE Mean  \n",
      "0      0.179204  -3.139156  \n",
      "1      0.178691  -3.138665  \n",
      "2      0.197951  -3.118818  \n",
      "3      0.004651  -0.369089  \n",
      "4      0.022631  -0.448756  \n",
      "5      0.008369  -0.324880  \n"
     ]
    }
   ],
   "source": [
    "from sklearn.metrics import make_scorer, mean_squared_error, mean_absolute_error, r2_score\n",
    "\n",
    "# Membangun pipeline dengan ColumnTransformer dan model regresi\n",
    "lg = LinearRegression(n_jobs=-1)\n",
    "rd = Ridge(max_iter=1000, random_state=42)\n",
    "ls = Lasso(max_iter=1000, random_state=42)\n",
    "rf = RandomForestRegressor(bootstrap=False, random_state=42, n_jobs=-1)\n",
    "xgb = XGBRegressor(random_state=42, n_jobs=-1)\n",
    "ada = AdaBoostRegressor(random_state=42, base_estimator=DecisionTreeRegressor())\n",
    "\n",
    "models = [lg, rd, ls, rf, xgb, ada]\n",
    "\n",
    "# Menggunakan make_scorer untuk membuat skor sesuai metrik evaluasi yang diinginkan\n",
    "scoring_rmse = 'neg_root_mean_squared_error'\n",
    "scoring_r2 = 'r2'\n",
    "scoring_mape = 'neg_mean_absolute_percentage_error'\n",
    "\n",
    "# Menyiapkan data untuk dataframe\n",
    "data = []\n",
    "\n",
    "for model in models:  \n",
    "    estimator = Pipeline([\n",
    "        ('preprocessing', transformer),\n",
    "        ('model', model)\n",
    "    ])\n",
    "    \n",
    "    # Cross-validation dengan skor sesuai metrik evaluasi yang diinginkan\n",
    "    rmse_scores = cross_val_score(estimator, X_train, y_train, cv=5, scoring=scoring_rmse, \n",
    "        error_score='raise')\n",
    "    r2_scores = cross_val_score(estimator, X_train, y_train, cv=5, scoring=scoring_r2, \n",
    "        error_score='raise')\n",
    "    mape_scores = cross_val_score(estimator, X_train, y_train, cv=5, scoring=scoring_mape, \n",
    "        error_score='raise')\n",
    "    \n",
    "    # Menyimpan informasi model, standar deviasi, dan rata-rata\n",
    "    model_name = model.__class__.__name__\n",
    "    data.append([model_name, rmse_scores.std(), rmse_scores.mean(),\n",
    "                 r2_scores.std(), r2_scores.mean(),\n",
    "                 mape_scores.std(), mape_scores.mean()])\n",
    "\n",
    "# Membuat dataframe\n",
    "columns = ['Model', 'RMSE Std Dev', 'RMSE Mean', 'MAE Std Dev', 'MAE Mean', 'MAPE Std Dev', 'MAPE Mean']\n",
    "results_df = pd.DataFrame(data, columns=columns)\n",
    "\n",
    "# Menampilkan dataframe\n",
    "print(results_df)"
   ]
  },
  {
   "cell_type": "code",
   "execution_count": 40,
   "metadata": {},
   "outputs": [
    {
     "data": {
      "text/html": [
       "<div>\n",
       "<style scoped>\n",
       "    .dataframe tbody tr th:only-of-type {\n",
       "        vertical-align: middle;\n",
       "    }\n",
       "\n",
       "    .dataframe tbody tr th {\n",
       "        vertical-align: top;\n",
       "    }\n",
       "\n",
       "    .dataframe thead th {\n",
       "        text-align: right;\n",
       "    }\n",
       "</style>\n",
       "<table border=\"1\" class=\"dataframe\">\n",
       "  <thead>\n",
       "    <tr style=\"text-align: right;\">\n",
       "      <th></th>\n",
       "      <th>Model</th>\n",
       "      <th>RMSE Std Dev</th>\n",
       "      <th>RMSE Mean</th>\n",
       "      <th>MAE Std Dev</th>\n",
       "      <th>MAE Mean</th>\n",
       "      <th>MAPE Std Dev</th>\n",
       "      <th>MAPE Mean</th>\n",
       "    </tr>\n",
       "  </thead>\n",
       "  <tbody>\n",
       "    <tr>\n",
       "      <th>0</th>\n",
       "      <td>LinearRegression</td>\n",
       "      <td>1.463643</td>\n",
       "      <td>-120.517447</td>\n",
       "      <td>0.008995</td>\n",
       "      <td>0.398738</td>\n",
       "      <td>0.179204</td>\n",
       "      <td>-3.139156</td>\n",
       "    </tr>\n",
       "    <tr>\n",
       "      <th>1</th>\n",
       "      <td>Ridge</td>\n",
       "      <td>1.470693</td>\n",
       "      <td>-120.516106</td>\n",
       "      <td>0.009044</td>\n",
       "      <td>0.398752</td>\n",
       "      <td>0.178691</td>\n",
       "      <td>-3.138665</td>\n",
       "    </tr>\n",
       "    <tr>\n",
       "      <th>2</th>\n",
       "      <td>Lasso</td>\n",
       "      <td>1.719402</td>\n",
       "      <td>-121.257548</td>\n",
       "      <td>0.009791</td>\n",
       "      <td>0.391353</td>\n",
       "      <td>0.197951</td>\n",
       "      <td>-3.118818</td>\n",
       "    </tr>\n",
       "    <tr>\n",
       "      <th>3</th>\n",
       "      <td>RandomForestRegressor</td>\n",
       "      <td>3.365108</td>\n",
       "      <td>-53.946621</td>\n",
       "      <td>0.012964</td>\n",
       "      <td>0.879333</td>\n",
       "      <td>0.004651</td>\n",
       "      <td>-0.369089</td>\n",
       "    </tr>\n",
       "    <tr>\n",
       "      <th>4</th>\n",
       "      <td>XGBRegressor</td>\n",
       "      <td>0.901166</td>\n",
       "      <td>-39.559151</td>\n",
       "      <td>0.004232</td>\n",
       "      <td>0.935109</td>\n",
       "      <td>0.022631</td>\n",
       "      <td>-0.448756</td>\n",
       "    </tr>\n",
       "    <tr>\n",
       "      <th>5</th>\n",
       "      <td>AdaBoostRegressor</td>\n",
       "      <td>2.045352</td>\n",
       "      <td>-41.351691</td>\n",
       "      <td>0.006252</td>\n",
       "      <td>0.929113</td>\n",
       "      <td>0.008369</td>\n",
       "      <td>-0.324880</td>\n",
       "    </tr>\n",
       "  </tbody>\n",
       "</table>\n",
       "</div>"
      ],
      "text/plain": [
       "                   Model  RMSE Std Dev   RMSE Mean  MAE Std Dev  MAE Mean  \\\n",
       "0       LinearRegression      1.463643 -120.517447     0.008995  0.398738   \n",
       "1                  Ridge      1.470693 -120.516106     0.009044  0.398752   \n",
       "2                  Lasso      1.719402 -121.257548     0.009791  0.391353   \n",
       "3  RandomForestRegressor      3.365108  -53.946621     0.012964  0.879333   \n",
       "4           XGBRegressor      0.901166  -39.559151     0.004232  0.935109   \n",
       "5      AdaBoostRegressor      2.045352  -41.351691     0.006252  0.929113   \n",
       "\n",
       "   MAPE Std Dev  MAPE Mean  \n",
       "0      0.179204  -3.139156  \n",
       "1      0.178691  -3.138665  \n",
       "2      0.197951  -3.118818  \n",
       "3      0.004651  -0.369089  \n",
       "4      0.022631  -0.448756  \n",
       "5      0.008369  -0.324880  "
      ]
     },
     "execution_count": 40,
     "metadata": {},
     "output_type": "execute_result"
    }
   ],
   "source": [
    "results_df"
   ]
  },
  {
   "cell_type": "code",
   "execution_count": 41,
   "metadata": {},
   "outputs": [
    {
     "data": {
      "text/html": [
       "<div>\n",
       "<style scoped>\n",
       "    .dataframe tbody tr th:only-of-type {\n",
       "        vertical-align: middle;\n",
       "    }\n",
       "\n",
       "    .dataframe tbody tr th {\n",
       "        vertical-align: top;\n",
       "    }\n",
       "\n",
       "    .dataframe thead th {\n",
       "        text-align: right;\n",
       "    }\n",
       "</style>\n",
       "<table border=\"1\" class=\"dataframe\">\n",
       "  <thead>\n",
       "    <tr style=\"text-align: right;\">\n",
       "      <th></th>\n",
       "      <th>RMSE</th>\n",
       "      <th>R2</th>\n",
       "      <th>MAPE</th>\n",
       "    </tr>\n",
       "  </thead>\n",
       "  <tbody>\n",
       "    <tr>\n",
       "      <th>xgb before tuning</th>\n",
       "      <td>40.015047</td>\n",
       "      <td>0.935509</td>\n",
       "      <td>0.410478</td>\n",
       "    </tr>\n",
       "  </tbody>\n",
       "</table>\n",
       "</div>"
      ],
      "text/plain": [
       "                        RMSE        R2      MAPE\n",
       "xgb before tuning  40.015047  0.935509  0.410478"
      ]
     },
     "execution_count": 41,
     "metadata": {},
     "output_type": "execute_result"
    }
   ],
   "source": [
    "score_rmse = []\n",
    "score_r2 = []\n",
    "score_mape = []\n",
    "\n",
    "# Then predict to Datatest\n",
    "xgb_model = Pipeline([\n",
    "    ('preprocessing', transformer),\n",
    "    ('model', xgb)\n",
    "    ])\n",
    "\n",
    "xgb_model.fit(X_train, y_train)\n",
    "y_pred = xgb_model.predict(X_test)\n",
    "score_rmse.append(np.sqrt(mean_squared_error(y_test, y_pred)))\n",
    "score_r2.append(r2_score(y_test, y_pred))\n",
    "score_mape.append(mean_absolute_percentage_error(y_test, y_pred))\n",
    "\n",
    "score_before_tuning = pd.DataFrame({'RMSE': score_rmse, 'R2': score_r2, 'MAPE': score_mape}, index=['xgb before tuning'])\n",
    "score_before_tuning"
   ]
  },
  {
   "cell_type": "markdown",
   "metadata": {},
   "source": [
    "# Hyperparameter Tuning"
   ]
  },
  {
   "cell_type": "code",
   "execution_count": 42,
   "metadata": {},
   "outputs": [],
   "source": [
    "# Hyperparam space XGboost\n",
    "hyperparam_space_xgb = {\n",
    "    'model__n_estimators': [50, 100, 150, 200],\n",
    "    'model__learning_rate': [0.01, 0.1, 0.2, 0.3],\n",
    "    'model__max_depth': [3, 4, 5, 6],\n",
    "    'model__min_child_weight': [1, 2, 3, 4],\n",
    "    'model__subsample': [0.8, 0.9, 1.0],\n",
    "    'model__colsample_bytree': [0.8, 0.9, 1.0],\n",
    "    'model__gamma': [0, 1, 2],\n",
    "    'scaling': [None, RobustScaler(), StandardScaler()]\n",
    "}"
   ]
  },
  {
   "cell_type": "code",
   "execution_count": 43,
   "metadata": {
    "collapsed": true,
    "jupyter": {
     "outputs_hidden": true
    },
    "tags": []
   },
   "outputs": [],
   "source": [
    "# Membuat algorithm chains\n",
    "estimator_xgb = Pipeline([\n",
    "        ('preprocessing', transformer),\n",
    "        ('scaling', None),\n",
    "        ('model', xgb)\n",
    "        ])\n",
    "\n",
    "# crossval = KFold(n_splits=5, shuffle=True, random_state=42)\n",
    "\n",
    "# Hyperparameter tuning\n",
    "random_xgb = RandomizedSearchCV(\n",
    "    estimator_xgb, \n",
    "    param_distributions = hyperparam_space_xgb,\n",
    "    n_iter = 100,\n",
    "    cv = 5, \n",
    "    scoring = ['neg_root_mean_squared_error', 'r2', 'neg_mean_absolute_percentage_error'], \n",
    "    n_jobs = -1,\n",
    "    refit = 'neg_root_mean_squared_error', # Hanya bisa memilih salah stau metric untuk optimisasi\n",
    "    random_state = 42  \n",
    ")"
   ]
  },
  {
   "cell_type": "code",
   "execution_count": 44,
   "metadata": {},
   "outputs": [
    {
     "data": {
      "text/html": [
       "<style>#sk-container-id-1 {color: black;}#sk-container-id-1 pre{padding: 0;}#sk-container-id-1 div.sk-toggleable {background-color: white;}#sk-container-id-1 label.sk-toggleable__label {cursor: pointer;display: block;width: 100%;margin-bottom: 0;padding: 0.3em;box-sizing: border-box;text-align: center;}#sk-container-id-1 label.sk-toggleable__label-arrow:before {content: \"▸\";float: left;margin-right: 0.25em;color: #696969;}#sk-container-id-1 label.sk-toggleable__label-arrow:hover:before {color: black;}#sk-container-id-1 div.sk-estimator:hover label.sk-toggleable__label-arrow:before {color: black;}#sk-container-id-1 div.sk-toggleable__content {max-height: 0;max-width: 0;overflow: hidden;text-align: left;background-color: #f0f8ff;}#sk-container-id-1 div.sk-toggleable__content pre {margin: 0.2em;color: black;border-radius: 0.25em;background-color: #f0f8ff;}#sk-container-id-1 input.sk-toggleable__control:checked~div.sk-toggleable__content {max-height: 200px;max-width: 100%;overflow: auto;}#sk-container-id-1 input.sk-toggleable__control:checked~label.sk-toggleable__label-arrow:before {content: \"▾\";}#sk-container-id-1 div.sk-estimator input.sk-toggleable__control:checked~label.sk-toggleable__label {background-color: #d4ebff;}#sk-container-id-1 div.sk-label input.sk-toggleable__control:checked~label.sk-toggleable__label {background-color: #d4ebff;}#sk-container-id-1 input.sk-hidden--visually {border: 0;clip: rect(1px 1px 1px 1px);clip: rect(1px, 1px, 1px, 1px);height: 1px;margin: -1px;overflow: hidden;padding: 0;position: absolute;width: 1px;}#sk-container-id-1 div.sk-estimator {font-family: monospace;background-color: #f0f8ff;border: 1px dotted black;border-radius: 0.25em;box-sizing: border-box;margin-bottom: 0.5em;}#sk-container-id-1 div.sk-estimator:hover {background-color: #d4ebff;}#sk-container-id-1 div.sk-parallel-item::after {content: \"\";width: 100%;border-bottom: 1px solid gray;flex-grow: 1;}#sk-container-id-1 div.sk-label:hover label.sk-toggleable__label {background-color: #d4ebff;}#sk-container-id-1 div.sk-serial::before {content: \"\";position: absolute;border-left: 1px solid gray;box-sizing: border-box;top: 0;bottom: 0;left: 50%;z-index: 0;}#sk-container-id-1 div.sk-serial {display: flex;flex-direction: column;align-items: center;background-color: white;padding-right: 0.2em;padding-left: 0.2em;position: relative;}#sk-container-id-1 div.sk-item {position: relative;z-index: 1;}#sk-container-id-1 div.sk-parallel {display: flex;align-items: stretch;justify-content: center;background-color: white;position: relative;}#sk-container-id-1 div.sk-item::before, #sk-container-id-1 div.sk-parallel-item::before {content: \"\";position: absolute;border-left: 1px solid gray;box-sizing: border-box;top: 0;bottom: 0;left: 50%;z-index: -1;}#sk-container-id-1 div.sk-parallel-item {display: flex;flex-direction: column;z-index: 1;position: relative;background-color: white;}#sk-container-id-1 div.sk-parallel-item:first-child::after {align-self: flex-end;width: 50%;}#sk-container-id-1 div.sk-parallel-item:last-child::after {align-self: flex-start;width: 50%;}#sk-container-id-1 div.sk-parallel-item:only-child::after {width: 0;}#sk-container-id-1 div.sk-dashed-wrapped {border: 1px dashed gray;margin: 0 0.4em 0.5em 0.4em;box-sizing: border-box;padding-bottom: 0.4em;background-color: white;}#sk-container-id-1 div.sk-label label {font-family: monospace;font-weight: bold;display: inline-block;line-height: 1.2em;}#sk-container-id-1 div.sk-label-container {text-align: center;}#sk-container-id-1 div.sk-container {/* jupyter's `normalize.less` sets `[hidden] { display: none; }` but bootstrap.min.css set `[hidden] { display: none !important; }` so we also need the `!important` here to be able to override the default hidden behavior on the sphinx rendered scikit-learn.org. See: https://github.com/scikit-learn/scikit-learn/issues/21755 */display: inline-block !important;position: relative;}#sk-container-id-1 div.sk-text-repr-fallback {display: none;}</style><div id=\"sk-container-id-1\" class=\"sk-top-container\"><div class=\"sk-text-repr-fallback\"><pre>RandomizedSearchCV(cv=5,\n",
       "                   estimator=Pipeline(steps=[(&#x27;preprocessing&#x27;,\n",
       "                                              ColumnTransformer(remainder=&#x27;passthrough&#x27;,\n",
       "                                                                transformers=[(&#x27;onehot&#x27;,\n",
       "                                                                               OneHotEncoder(),\n",
       "                                                                               [&#x27;tahun&#x27;,\n",
       "                                                                                &#x27;bulan&#x27;,\n",
       "                                                                                &#x27;tanggal&#x27;,\n",
       "                                                                                &#x27;weathersit&#x27;,\n",
       "                                                                                &#x27;weekday&#x27;,\n",
       "                                                                                &#x27;hari&#x27;]),\n",
       "                                                                              (&#x27;binary&#x27;,\n",
       "                                                                               BinaryEncoder(),\n",
       "                                                                               [&#x27;hari&#x27;])])),\n",
       "                                             (&#x27;scaling&#x27;, None),\n",
       "                                             (&#x27;model&#x27;,\n",
       "                                              XGBRegressor(base_score=None,\n",
       "                                                           booster=None,\n",
       "                                                           callbacks=None,\n",
       "                                                           colsample_bylevel=No...\n",
       "                                        &#x27;model__learning_rate&#x27;: [0.01, 0.1, 0.2,\n",
       "                                                                 0.3],\n",
       "                                        &#x27;model__max_depth&#x27;: [3, 4, 5, 6],\n",
       "                                        &#x27;model__min_child_weight&#x27;: [1, 2, 3, 4],\n",
       "                                        &#x27;model__n_estimators&#x27;: [50, 100, 150,\n",
       "                                                                200],\n",
       "                                        &#x27;model__subsample&#x27;: [0.8, 0.9, 1.0],\n",
       "                                        &#x27;scaling&#x27;: [None, RobustScaler(),\n",
       "                                                    StandardScaler()]},\n",
       "                   random_state=42, refit=&#x27;neg_root_mean_squared_error&#x27;,\n",
       "                   scoring=[&#x27;neg_root_mean_squared_error&#x27;, &#x27;r2&#x27;,\n",
       "                            &#x27;neg_mean_absolute_percentage_error&#x27;])</pre><b>In a Jupyter environment, please rerun this cell to show the HTML representation or trust the notebook. <br />On GitHub, the HTML representation is unable to render, please try loading this page with nbviewer.org.</b></div><div class=\"sk-container\" hidden><div class=\"sk-item sk-dashed-wrapped\"><div class=\"sk-label-container\"><div class=\"sk-label sk-toggleable\"><input class=\"sk-toggleable__control sk-hidden--visually\" id=\"sk-estimator-id-1\" type=\"checkbox\" ><label for=\"sk-estimator-id-1\" class=\"sk-toggleable__label sk-toggleable__label-arrow\">RandomizedSearchCV</label><div class=\"sk-toggleable__content\"><pre>RandomizedSearchCV(cv=5,\n",
       "                   estimator=Pipeline(steps=[(&#x27;preprocessing&#x27;,\n",
       "                                              ColumnTransformer(remainder=&#x27;passthrough&#x27;,\n",
       "                                                                transformers=[(&#x27;onehot&#x27;,\n",
       "                                                                               OneHotEncoder(),\n",
       "                                                                               [&#x27;tahun&#x27;,\n",
       "                                                                                &#x27;bulan&#x27;,\n",
       "                                                                                &#x27;tanggal&#x27;,\n",
       "                                                                                &#x27;weathersit&#x27;,\n",
       "                                                                                &#x27;weekday&#x27;,\n",
       "                                                                                &#x27;hari&#x27;]),\n",
       "                                                                              (&#x27;binary&#x27;,\n",
       "                                                                               BinaryEncoder(),\n",
       "                                                                               [&#x27;hari&#x27;])])),\n",
       "                                             (&#x27;scaling&#x27;, None),\n",
       "                                             (&#x27;model&#x27;,\n",
       "                                              XGBRegressor(base_score=None,\n",
       "                                                           booster=None,\n",
       "                                                           callbacks=None,\n",
       "                                                           colsample_bylevel=No...\n",
       "                                        &#x27;model__learning_rate&#x27;: [0.01, 0.1, 0.2,\n",
       "                                                                 0.3],\n",
       "                                        &#x27;model__max_depth&#x27;: [3, 4, 5, 6],\n",
       "                                        &#x27;model__min_child_weight&#x27;: [1, 2, 3, 4],\n",
       "                                        &#x27;model__n_estimators&#x27;: [50, 100, 150,\n",
       "                                                                200],\n",
       "                                        &#x27;model__subsample&#x27;: [0.8, 0.9, 1.0],\n",
       "                                        &#x27;scaling&#x27;: [None, RobustScaler(),\n",
       "                                                    StandardScaler()]},\n",
       "                   random_state=42, refit=&#x27;neg_root_mean_squared_error&#x27;,\n",
       "                   scoring=[&#x27;neg_root_mean_squared_error&#x27;, &#x27;r2&#x27;,\n",
       "                            &#x27;neg_mean_absolute_percentage_error&#x27;])</pre></div></div></div><div class=\"sk-parallel\"><div class=\"sk-parallel-item\"><div class=\"sk-item\"><div class=\"sk-label-container\"><div class=\"sk-label sk-toggleable\"><input class=\"sk-toggleable__control sk-hidden--visually\" id=\"sk-estimator-id-2\" type=\"checkbox\" ><label for=\"sk-estimator-id-2\" class=\"sk-toggleable__label sk-toggleable__label-arrow\">estimator: Pipeline</label><div class=\"sk-toggleable__content\"><pre>Pipeline(steps=[(&#x27;preprocessing&#x27;,\n",
       "                 ColumnTransformer(remainder=&#x27;passthrough&#x27;,\n",
       "                                   transformers=[(&#x27;onehot&#x27;, OneHotEncoder(),\n",
       "                                                  [&#x27;tahun&#x27;, &#x27;bulan&#x27;, &#x27;tanggal&#x27;,\n",
       "                                                   &#x27;weathersit&#x27;, &#x27;weekday&#x27;,\n",
       "                                                   &#x27;hari&#x27;]),\n",
       "                                                 (&#x27;binary&#x27;, BinaryEncoder(),\n",
       "                                                  [&#x27;hari&#x27;])])),\n",
       "                (&#x27;scaling&#x27;, None),\n",
       "                (&#x27;model&#x27;,\n",
       "                 XGBRegressor(base_score=None, booster=None, callbacks=None,\n",
       "                              colsample_bylevel=None, colsample_bynode=None,\n",
       "                              colsample...\n",
       "                              feature_types=None, gamma=None, grow_policy=None,\n",
       "                              importance_type=None,\n",
       "                              interaction_constraints=None, learning_rate=None,\n",
       "                              max_bin=None, max_cat_threshold=None,\n",
       "                              max_cat_to_onehot=None, max_delta_step=None,\n",
       "                              max_depth=None, max_leaves=None,\n",
       "                              min_child_weight=None, missing=nan,\n",
       "                              monotone_constraints=None, multi_strategy=None,\n",
       "                              n_estimators=None, n_jobs=-1,\n",
       "                              num_parallel_tree=None, random_state=42, ...))])</pre></div></div></div><div class=\"sk-serial\"><div class=\"sk-item\"><div class=\"sk-serial\"><div class=\"sk-item sk-dashed-wrapped\"><div class=\"sk-label-container\"><div class=\"sk-label sk-toggleable\"><input class=\"sk-toggleable__control sk-hidden--visually\" id=\"sk-estimator-id-3\" type=\"checkbox\" ><label for=\"sk-estimator-id-3\" class=\"sk-toggleable__label sk-toggleable__label-arrow\">preprocessing: ColumnTransformer</label><div class=\"sk-toggleable__content\"><pre>ColumnTransformer(remainder=&#x27;passthrough&#x27;,\n",
       "                  transformers=[(&#x27;onehot&#x27;, OneHotEncoder(),\n",
       "                                 [&#x27;tahun&#x27;, &#x27;bulan&#x27;, &#x27;tanggal&#x27;, &#x27;weathersit&#x27;,\n",
       "                                  &#x27;weekday&#x27;, &#x27;hari&#x27;]),\n",
       "                                (&#x27;binary&#x27;, BinaryEncoder(), [&#x27;hari&#x27;])])</pre></div></div></div><div class=\"sk-parallel\"><div class=\"sk-parallel-item\"><div class=\"sk-item\"><div class=\"sk-label-container\"><div class=\"sk-label sk-toggleable\"><input class=\"sk-toggleable__control sk-hidden--visually\" id=\"sk-estimator-id-4\" type=\"checkbox\" ><label for=\"sk-estimator-id-4\" class=\"sk-toggleable__label sk-toggleable__label-arrow\">onehot</label><div class=\"sk-toggleable__content\"><pre>[&#x27;tahun&#x27;, &#x27;bulan&#x27;, &#x27;tanggal&#x27;, &#x27;weathersit&#x27;, &#x27;weekday&#x27;, &#x27;hari&#x27;]</pre></div></div></div><div class=\"sk-serial\"><div class=\"sk-item\"><div class=\"sk-estimator sk-toggleable\"><input class=\"sk-toggleable__control sk-hidden--visually\" id=\"sk-estimator-id-5\" type=\"checkbox\" ><label for=\"sk-estimator-id-5\" class=\"sk-toggleable__label sk-toggleable__label-arrow\">OneHotEncoder</label><div class=\"sk-toggleable__content\"><pre>OneHotEncoder()</pre></div></div></div></div></div></div><div class=\"sk-parallel-item\"><div class=\"sk-item\"><div class=\"sk-label-container\"><div class=\"sk-label sk-toggleable\"><input class=\"sk-toggleable__control sk-hidden--visually\" id=\"sk-estimator-id-6\" type=\"checkbox\" ><label for=\"sk-estimator-id-6\" class=\"sk-toggleable__label sk-toggleable__label-arrow\">binary</label><div class=\"sk-toggleable__content\"><pre>[&#x27;hari&#x27;]</pre></div></div></div><div class=\"sk-serial\"><div class=\"sk-item\"><div class=\"sk-estimator sk-toggleable\"><input class=\"sk-toggleable__control sk-hidden--visually\" id=\"sk-estimator-id-7\" type=\"checkbox\" ><label for=\"sk-estimator-id-7\" class=\"sk-toggleable__label sk-toggleable__label-arrow\">BinaryEncoder</label><div class=\"sk-toggleable__content\"><pre>BinaryEncoder()</pre></div></div></div></div></div></div><div class=\"sk-parallel-item\"><div class=\"sk-item\"><div class=\"sk-label-container\"><div class=\"sk-label sk-toggleable\"><input class=\"sk-toggleable__control sk-hidden--visually\" id=\"sk-estimator-id-8\" type=\"checkbox\" ><label for=\"sk-estimator-id-8\" class=\"sk-toggleable__label sk-toggleable__label-arrow\">remainder</label><div class=\"sk-toggleable__content\"><pre>[&#x27;hum&#x27;, &#x27;holiday&#x27;, &#x27;season&#x27;, &#x27;atemp&#x27;, &#x27;hr&#x27;]</pre></div></div></div><div class=\"sk-serial\"><div class=\"sk-item\"><div class=\"sk-estimator sk-toggleable\"><input class=\"sk-toggleable__control sk-hidden--visually\" id=\"sk-estimator-id-9\" type=\"checkbox\" ><label for=\"sk-estimator-id-9\" class=\"sk-toggleable__label sk-toggleable__label-arrow\">passthrough</label><div class=\"sk-toggleable__content\"><pre>passthrough</pre></div></div></div></div></div></div></div></div><div class=\"sk-item\"><div class=\"sk-estimator sk-toggleable\"><input class=\"sk-toggleable__control sk-hidden--visually\" id=\"sk-estimator-id-10\" type=\"checkbox\" ><label for=\"sk-estimator-id-10\" class=\"sk-toggleable__label sk-toggleable__label-arrow\">None</label><div class=\"sk-toggleable__content\"><pre>None</pre></div></div></div><div class=\"sk-item\"><div class=\"sk-estimator sk-toggleable\"><input class=\"sk-toggleable__control sk-hidden--visually\" id=\"sk-estimator-id-11\" type=\"checkbox\" ><label for=\"sk-estimator-id-11\" class=\"sk-toggleable__label sk-toggleable__label-arrow\">XGBRegressor</label><div class=\"sk-toggleable__content\"><pre>XGBRegressor(base_score=None, booster=None, callbacks=None,\n",
       "             colsample_bylevel=None, colsample_bynode=None,\n",
       "             colsample_bytree=None, device=None, early_stopping_rounds=None,\n",
       "             enable_categorical=False, eval_metric=None, feature_types=None,\n",
       "             gamma=None, grow_policy=None, importance_type=None,\n",
       "             interaction_constraints=None, learning_rate=None, max_bin=None,\n",
       "             max_cat_threshold=None, max_cat_to_onehot=None,\n",
       "             max_delta_step=None, max_depth=None, max_leaves=None,\n",
       "             min_child_weight=None, missing=nan, monotone_constraints=None,\n",
       "             multi_strategy=None, n_estimators=None, n_jobs=-1,\n",
       "             num_parallel_tree=None, random_state=42, ...)</pre></div></div></div></div></div></div></div></div></div></div></div></div>"
      ],
      "text/plain": [
       "RandomizedSearchCV(cv=5,\n",
       "                   estimator=Pipeline(steps=[('preprocessing',\n",
       "                                              ColumnTransformer(remainder='passthrough',\n",
       "                                                                transformers=[('onehot',\n",
       "                                                                               OneHotEncoder(),\n",
       "                                                                               ['tahun',\n",
       "                                                                                'bulan',\n",
       "                                                                                'tanggal',\n",
       "                                                                                'weathersit',\n",
       "                                                                                'weekday',\n",
       "                                                                                'hari']),\n",
       "                                                                              ('binary',\n",
       "                                                                               BinaryEncoder(),\n",
       "                                                                               ['hari'])])),\n",
       "                                             ('scaling', None),\n",
       "                                             ('model',\n",
       "                                              XGBRegressor(base_score=None,\n",
       "                                                           booster=None,\n",
       "                                                           callbacks=None,\n",
       "                                                           colsample_bylevel=No...\n",
       "                                        'model__learning_rate': [0.01, 0.1, 0.2,\n",
       "                                                                 0.3],\n",
       "                                        'model__max_depth': [3, 4, 5, 6],\n",
       "                                        'model__min_child_weight': [1, 2, 3, 4],\n",
       "                                        'model__n_estimators': [50, 100, 150,\n",
       "                                                                200],\n",
       "                                        'model__subsample': [0.8, 0.9, 1.0],\n",
       "                                        'scaling': [None, RobustScaler(),\n",
       "                                                    StandardScaler()]},\n",
       "                   random_state=42, refit='neg_root_mean_squared_error',\n",
       "                   scoring=['neg_root_mean_squared_error', 'r2',\n",
       "                            'neg_mean_absolute_percentage_error'])"
      ]
     },
     "execution_count": 44,
     "metadata": {},
     "output_type": "execute_result"
    }
   ],
   "source": [
    "# Fitting data training untuk mencari parameter terbaik\n",
    "random_xgb.fit(X_train, y_train)"
   ]
  },
  {
   "cell_type": "code",
   "execution_count": 45,
   "metadata": {},
   "outputs": [
    {
     "data": {
      "text/html": [
       "<div>\n",
       "<style scoped>\n",
       "    .dataframe tbody tr th:only-of-type {\n",
       "        vertical-align: middle;\n",
       "    }\n",
       "\n",
       "    .dataframe tbody tr th {\n",
       "        vertical-align: top;\n",
       "    }\n",
       "\n",
       "    .dataframe thead th {\n",
       "        text-align: right;\n",
       "    }\n",
       "</style>\n",
       "<table border=\"1\" class=\"dataframe\">\n",
       "  <thead>\n",
       "    <tr style=\"text-align: right;\">\n",
       "      <th></th>\n",
       "      <th>mean_fit_time</th>\n",
       "      <th>std_fit_time</th>\n",
       "      <th>mean_score_time</th>\n",
       "      <th>std_score_time</th>\n",
       "      <th>param_scaling</th>\n",
       "      <th>param_model__subsample</th>\n",
       "      <th>param_model__n_estimators</th>\n",
       "      <th>param_model__min_child_weight</th>\n",
       "      <th>param_model__max_depth</th>\n",
       "      <th>param_model__learning_rate</th>\n",
       "      <th>...</th>\n",
       "      <th>std_test_r2</th>\n",
       "      <th>rank_test_r2</th>\n",
       "      <th>split0_test_neg_mean_absolute_percentage_error</th>\n",
       "      <th>split1_test_neg_mean_absolute_percentage_error</th>\n",
       "      <th>split2_test_neg_mean_absolute_percentage_error</th>\n",
       "      <th>split3_test_neg_mean_absolute_percentage_error</th>\n",
       "      <th>split4_test_neg_mean_absolute_percentage_error</th>\n",
       "      <th>mean_test_neg_mean_absolute_percentage_error</th>\n",
       "      <th>std_test_neg_mean_absolute_percentage_error</th>\n",
       "      <th>rank_test_neg_mean_absolute_percentage_error</th>\n",
       "    </tr>\n",
       "  </thead>\n",
       "  <tbody>\n",
       "    <tr>\n",
       "      <th>69</th>\n",
       "      <td>0.206067</td>\n",
       "      <td>0.015944</td>\n",
       "      <td>0.036333</td>\n",
       "      <td>0.009099</td>\n",
       "      <td>None</td>\n",
       "      <td>1.0</td>\n",
       "      <td>200</td>\n",
       "      <td>1</td>\n",
       "      <td>6</td>\n",
       "      <td>0.2</td>\n",
       "      <td>...</td>\n",
       "      <td>0.002945</td>\n",
       "      <td>1</td>\n",
       "      <td>-0.418226</td>\n",
       "      <td>-0.442136</td>\n",
       "      <td>-0.453997</td>\n",
       "      <td>-0.464155</td>\n",
       "      <td>-0.451141</td>\n",
       "      <td>-0.445931</td>\n",
       "      <td>0.015533</td>\n",
       "      <td>8</td>\n",
       "    </tr>\n",
       "    <tr>\n",
       "      <th>89</th>\n",
       "      <td>0.174791</td>\n",
       "      <td>0.040003</td>\n",
       "      <td>0.024824</td>\n",
       "      <td>0.005834</td>\n",
       "      <td>None</td>\n",
       "      <td>0.9</td>\n",
       "      <td>200</td>\n",
       "      <td>4</td>\n",
       "      <td>6</td>\n",
       "      <td>0.1</td>\n",
       "      <td>...</td>\n",
       "      <td>0.004722</td>\n",
       "      <td>2</td>\n",
       "      <td>-0.396680</td>\n",
       "      <td>-0.378296</td>\n",
       "      <td>-0.407838</td>\n",
       "      <td>-0.445363</td>\n",
       "      <td>-0.432301</td>\n",
       "      <td>-0.412096</td>\n",
       "      <td>0.024138</td>\n",
       "      <td>6</td>\n",
       "    </tr>\n",
       "    <tr>\n",
       "      <th>58</th>\n",
       "      <td>0.209765</td>\n",
       "      <td>0.017018</td>\n",
       "      <td>0.039772</td>\n",
       "      <td>0.008398</td>\n",
       "      <td>None</td>\n",
       "      <td>1.0</td>\n",
       "      <td>200</td>\n",
       "      <td>2</td>\n",
       "      <td>6</td>\n",
       "      <td>0.1</td>\n",
       "      <td>...</td>\n",
       "      <td>0.003630</td>\n",
       "      <td>3</td>\n",
       "      <td>-0.395110</td>\n",
       "      <td>-0.386084</td>\n",
       "      <td>-0.418992</td>\n",
       "      <td>-0.421593</td>\n",
       "      <td>-0.419602</td>\n",
       "      <td>-0.408276</td>\n",
       "      <td>0.014739</td>\n",
       "      <td>4</td>\n",
       "    </tr>\n",
       "    <tr>\n",
       "      <th>61</th>\n",
       "      <td>0.186603</td>\n",
       "      <td>0.025196</td>\n",
       "      <td>0.041512</td>\n",
       "      <td>0.015412</td>\n",
       "      <td>None</td>\n",
       "      <td>1.0</td>\n",
       "      <td>200</td>\n",
       "      <td>3</td>\n",
       "      <td>6</td>\n",
       "      <td>0.3</td>\n",
       "      <td>...</td>\n",
       "      <td>0.003265</td>\n",
       "      <td>4</td>\n",
       "      <td>-0.438524</td>\n",
       "      <td>-0.490964</td>\n",
       "      <td>-0.527675</td>\n",
       "      <td>-0.543218</td>\n",
       "      <td>-0.550105</td>\n",
       "      <td>-0.510097</td>\n",
       "      <td>0.041220</td>\n",
       "      <td>11</td>\n",
       "    </tr>\n",
       "    <tr>\n",
       "      <th>70</th>\n",
       "      <td>0.195203</td>\n",
       "      <td>0.055864</td>\n",
       "      <td>0.030156</td>\n",
       "      <td>0.010144</td>\n",
       "      <td>None</td>\n",
       "      <td>0.8</td>\n",
       "      <td>150</td>\n",
       "      <td>4</td>\n",
       "      <td>6</td>\n",
       "      <td>0.1</td>\n",
       "      <td>...</td>\n",
       "      <td>0.004776</td>\n",
       "      <td>5</td>\n",
       "      <td>-0.381193</td>\n",
       "      <td>-0.370150</td>\n",
       "      <td>-0.401452</td>\n",
       "      <td>-0.420373</td>\n",
       "      <td>-0.393301</td>\n",
       "      <td>-0.393294</td>\n",
       "      <td>0.017215</td>\n",
       "      <td>2</td>\n",
       "    </tr>\n",
       "  </tbody>\n",
       "</table>\n",
       "<p>5 rows × 37 columns</p>\n",
       "</div>"
      ],
      "text/plain": [
       "    mean_fit_time  std_fit_time  mean_score_time  std_score_time  \\\n",
       "69       0.206067      0.015944         0.036333        0.009099   \n",
       "89       0.174791      0.040003         0.024824        0.005834   \n",
       "58       0.209765      0.017018         0.039772        0.008398   \n",
       "61       0.186603      0.025196         0.041512        0.015412   \n",
       "70       0.195203      0.055864         0.030156        0.010144   \n",
       "\n",
       "   param_scaling param_model__subsample param_model__n_estimators  \\\n",
       "69          None                    1.0                       200   \n",
       "89          None                    0.9                       200   \n",
       "58          None                    1.0                       200   \n",
       "61          None                    1.0                       200   \n",
       "70          None                    0.8                       150   \n",
       "\n",
       "   param_model__min_child_weight param_model__max_depth  \\\n",
       "69                             1                      6   \n",
       "89                             4                      6   \n",
       "58                             2                      6   \n",
       "61                             3                      6   \n",
       "70                             4                      6   \n",
       "\n",
       "   param_model__learning_rate  ... std_test_r2 rank_test_r2  \\\n",
       "69                        0.2  ...    0.002945            1   \n",
       "89                        0.1  ...    0.004722            2   \n",
       "58                        0.1  ...    0.003630            3   \n",
       "61                        0.3  ...    0.003265            4   \n",
       "70                        0.1  ...    0.004776            5   \n",
       "\n",
       "   split0_test_neg_mean_absolute_percentage_error  \\\n",
       "69                                      -0.418226   \n",
       "89                                      -0.396680   \n",
       "58                                      -0.395110   \n",
       "61                                      -0.438524   \n",
       "70                                      -0.381193   \n",
       "\n",
       "    split1_test_neg_mean_absolute_percentage_error  \\\n",
       "69                                       -0.442136   \n",
       "89                                       -0.378296   \n",
       "58                                       -0.386084   \n",
       "61                                       -0.490964   \n",
       "70                                       -0.370150   \n",
       "\n",
       "    split2_test_neg_mean_absolute_percentage_error  \\\n",
       "69                                       -0.453997   \n",
       "89                                       -0.407838   \n",
       "58                                       -0.418992   \n",
       "61                                       -0.527675   \n",
       "70                                       -0.401452   \n",
       "\n",
       "    split3_test_neg_mean_absolute_percentage_error  \\\n",
       "69                                       -0.464155   \n",
       "89                                       -0.445363   \n",
       "58                                       -0.421593   \n",
       "61                                       -0.543218   \n",
       "70                                       -0.420373   \n",
       "\n",
       "    split4_test_neg_mean_absolute_percentage_error  \\\n",
       "69                                       -0.451141   \n",
       "89                                       -0.432301   \n",
       "58                                       -0.419602   \n",
       "61                                       -0.550105   \n",
       "70                                       -0.393301   \n",
       "\n",
       "    mean_test_neg_mean_absolute_percentage_error  \\\n",
       "69                                     -0.445931   \n",
       "89                                     -0.412096   \n",
       "58                                     -0.408276   \n",
       "61                                     -0.510097   \n",
       "70                                     -0.393294   \n",
       "\n",
       "    std_test_neg_mean_absolute_percentage_error  \\\n",
       "69                                     0.015533   \n",
       "89                                     0.024138   \n",
       "58                                     0.014739   \n",
       "61                                     0.041220   \n",
       "70                                     0.017215   \n",
       "\n",
       "    rank_test_neg_mean_absolute_percentage_error  \n",
       "69                                             8  \n",
       "89                                             6  \n",
       "58                                             4  \n",
       "61                                            11  \n",
       "70                                             2  \n",
       "\n",
       "[5 rows x 37 columns]"
      ]
     },
     "execution_count": 45,
     "metadata": {},
     "output_type": "execute_result"
    }
   ],
   "source": [
    "pd.DataFrame(random_xgb.cv_results_).sort_values(by=['rank_test_neg_root_mean_squared_error', 'rank_test_neg_mean_absolute_percentage_error']).head()"
   ]
  },
  {
   "cell_type": "code",
   "execution_count": 46,
   "metadata": {},
   "outputs": [
    {
     "name": "stdout",
     "output_type": "stream",
     "text": [
      "XGBoost\n",
      "Best_score: -38.201553880938256\n",
      "Best_params: {'scaling': None, 'model__subsample': 1.0, 'model__n_estimators': 200, 'model__min_child_weight': 1, 'model__max_depth': 6, 'model__learning_rate': 0.2, 'model__gamma': 0, 'model__colsample_bytree': 0.9}\n"
     ]
    }
   ],
   "source": [
    "# Print the best parameters that output the best score\n",
    "print('XGBoost')\n",
    "print('Best_score:', random_xgb.best_score_)\n",
    "print('Best_params:', random_xgb.best_params_)"
   ]
  },
  {
   "cell_type": "code",
   "execution_count": 47,
   "metadata": {},
   "outputs": [
    {
     "data": {
      "text/html": [
       "<div>\n",
       "<style scoped>\n",
       "    .dataframe tbody tr th:only-of-type {\n",
       "        vertical-align: middle;\n",
       "    }\n",
       "\n",
       "    .dataframe tbody tr th {\n",
       "        vertical-align: top;\n",
       "    }\n",
       "\n",
       "    .dataframe thead th {\n",
       "        text-align: right;\n",
       "    }\n",
       "</style>\n",
       "<table border=\"1\" class=\"dataframe\">\n",
       "  <thead>\n",
       "    <tr style=\"text-align: right;\">\n",
       "      <th></th>\n",
       "      <th>RMSE</th>\n",
       "      <th>R2</th>\n",
       "      <th>MAPE</th>\n",
       "    </tr>\n",
       "  </thead>\n",
       "  <tbody>\n",
       "    <tr>\n",
       "      <th>xgb after tuning</th>\n",
       "      <td>39.016964</td>\n",
       "      <td>0.938686</td>\n",
       "      <td>0.414723</td>\n",
       "    </tr>\n",
       "  </tbody>\n",
       "</table>\n",
       "</div>"
      ],
      "text/plain": [
       "                       RMSE        R2      MAPE\n",
       "xgb after tuning  39.016964  0.938686  0.414723"
      ]
     },
     "execution_count": 47,
     "metadata": {},
     "output_type": "execute_result"
    }
   ],
   "source": [
    "# Model XGB\n",
    "\n",
    "# Define model terhadap estimator terbaik\n",
    "xgb_tuning = random_xgb.best_estimator_\n",
    "\n",
    "# Fitting model\n",
    "xgb_tuning.fit(X_train, y_train)\n",
    "\n",
    "# Predict test set\n",
    "y_pred_xgb_tuning = xgb_tuning.predict(X_test)\n",
    "\n",
    "# Print the values of metrics from RMSE, MAE & MAPE after being tuned\n",
    "rmse_xgb_tuning = np.sqrt(mean_squared_error(y_test, y_pred_xgb_tuning))\n",
    "r2_xgb_tuning = r2_score(y_test, y_pred_xgb_tuning)\n",
    "mape_xgb_tuning = mean_absolute_percentage_error(y_test, y_pred_xgb_tuning)\n",
    "xgb\n",
    "score_after_tuning = pd.DataFrame({'RMSE': rmse_xgb_tuning, 'R2': r2_xgb_tuning, 'MAPE': mape_xgb_tuning}, index=['xgb after tuning'])\n",
    "score_after_tuning"
   ]
  },
  {
   "cell_type": "code",
   "execution_count": 48,
   "metadata": {},
   "outputs": [
    {
     "data": {
      "text/html": [
       "<div>\n",
       "<style scoped>\n",
       "    .dataframe tbody tr th:only-of-type {\n",
       "        vertical-align: middle;\n",
       "    }\n",
       "\n",
       "    .dataframe tbody tr th {\n",
       "        vertical-align: top;\n",
       "    }\n",
       "\n",
       "    .dataframe thead th {\n",
       "        text-align: right;\n",
       "    }\n",
       "</style>\n",
       "<table border=\"1\" class=\"dataframe\">\n",
       "  <thead>\n",
       "    <tr style=\"text-align: right;\">\n",
       "      <th></th>\n",
       "      <th>RMSE</th>\n",
       "      <th>R2</th>\n",
       "      <th>MAPE</th>\n",
       "    </tr>\n",
       "  </thead>\n",
       "  <tbody>\n",
       "    <tr>\n",
       "      <th>xgb before tuning</th>\n",
       "      <td>40.015047</td>\n",
       "      <td>0.935509</td>\n",
       "      <td>0.410478</td>\n",
       "    </tr>\n",
       "    <tr>\n",
       "      <th>xgb after tuning</th>\n",
       "      <td>39.016964</td>\n",
       "      <td>0.938686</td>\n",
       "      <td>0.414723</td>\n",
       "    </tr>\n",
       "  </tbody>\n",
       "</table>\n",
       "</div>"
      ],
      "text/plain": [
       "                        RMSE        R2      MAPE\n",
       "xgb before tuning  40.015047  0.935509  0.410478\n",
       "xgb after tuning   39.016964  0.938686  0.414723"
      ]
     },
     "execution_count": 48,
     "metadata": {},
     "output_type": "execute_result"
    }
   ],
   "source": [
    "pd.concat([score_before_tuning, score_after_tuning])"
   ]
  },
  {
   "cell_type": "markdown",
   "metadata": {},
   "source": [
    "# Residual Plot"
   ]
  },
  {
   "cell_type": "code",
   "execution_count": 49,
   "metadata": {},
   "outputs": [],
   "source": [
    "residuals_before_tuning = y_test - y_pred\n",
    "residuals_after_tuning = y_test - y_pred_xgb_tuning"
   ]
  },
  {
   "cell_type": "code",
   "execution_count": 50,
   "metadata": {},
   "outputs": [
    {
     "data": {
      "image/png": "[encoded data removed]",
      "text/plain": [
       "<Figure size 640x480 with 1 Axes>"
      ]
     },
     "metadata": {},
     "output_type": "display_data"
    }
   ],
   "source": [
    "plt.scatter(y_test, residuals_before_tuning, label='Before Tuning')\n",
    "plt.scatter(y_test, residuals_after_tuning, label='After Tuning')\n",
    "plt.axhline(y=0, color='red', linestyle='--')\n",
    "plt.title('Residual Plot')\n",
    "plt.xlabel('Nilai Sebenarnya')\n",
    "plt.ylabel('Residual')\n",
    "plt.legend()\n",
    "plt.show()\n"
   ]
  },
  {
   "cell_type": "code",
   "execution_count": 51,
   "metadata": {},
   "outputs": [
    {
     "data": {
      "image/png": "[encoded data removed]",
      "text/plain": [
       "<Figure size 1200x500 with 2 Axes>"
      ]
     },
     "metadata": {},
     "output_type": "display_data"
    }
   ],
   "source": [
    "plt.figure(figsize=(12, 5))\n",
    "\n",
    "plt.subplot(1, 2, 1)\n",
    "plt.hist(residuals_before_tuning, bins=30, edgecolor='black')\n",
    "plt.title('Residuals Before Tuning')\n",
    "plt.xlabel('Residuals')\n",
    "plt.ylabel('Frequency')\n",
    "\n",
    "plt.subplot(1, 2, 2)\n",
    "plt.hist(residuals_after_tuning, bins=30, edgecolor='black')\n",
    "plt.title('Residuals After Tuning')\n",
    "plt.xlabel('Residuals')\n",
    "plt.ylabel('Frequency')\n",
    "\n",
    "plt.tight_layout()\n",
    "plt.show()\n"
   ]
  },
  {
   "cell_type": "markdown",
   "metadata": {},
   "source": [
    "# Actual vs Prediction"
   ]
  },
  {
   "cell_type": "code",
   "execution_count": 52,
   "metadata": {},
   "outputs": [
    {
     "data": {
      "image/png": "[encoded data removed]",
      "text/plain": [
       "<Figure size 640x480 with 1 Axes>"
      ]
     },
     "metadata": {},
     "output_type": "display_data"
    }
   ],
   "source": [
    "plt.scatter(y_test, y_pred, label='Before Tuning')\n",
    "plt.scatter(y_test, y_pred_xgb_tuning, label='After Tuning')\n",
    "plt.plot([min(y_test), max(y_test)], [min(y_test), max(y_test)], linestyle='--', color='red', linewidth=2, label='Ideal Prediction')\n",
    "plt.title('Actual vs Prediction Before and After Tuning')\n",
    "plt.xlabel('Actual')\n",
    "plt.ylabel('Prediction')\n",
    "plt.legend()\n",
    "plt.show()\n"
   ]
  },
  {
   "cell_type": "code",
   "execution_count": 53,
   "metadata": {},
   "outputs": [
    {
     "data": {
      "text/html": [
       "<div>\n",
       "<style scoped>\n",
       "    .dataframe tbody tr th:only-of-type {\n",
       "        vertical-align: middle;\n",
       "    }\n",
       "\n",
       "    .dataframe tbody tr th {\n",
       "        vertical-align: top;\n",
       "    }\n",
       "\n",
       "    .dataframe thead th {\n",
       "        text-align: right;\n",
       "    }\n",
       "</style>\n",
       "<table border=\"1\" class=\"dataframe\">\n",
       "  <thead>\n",
       "    <tr style=\"text-align: right;\">\n",
       "      <th></th>\n",
       "      <th>Feature</th>\n",
       "      <th>Importance</th>\n",
       "    </tr>\n",
       "  </thead>\n",
       "  <tbody>\n",
       "    <tr>\n",
       "      <th>49</th>\n",
       "      <td>onehot__weekday_1</td>\n",
       "      <td>0.259817</td>\n",
       "    </tr>\n",
       "    <tr>\n",
       "      <th>1</th>\n",
       "      <td>onehot__tahun_2012</td>\n",
       "      <td>0.117477</td>\n",
       "    </tr>\n",
       "    <tr>\n",
       "      <th>64</th>\n",
       "      <td>remainder__hr</td>\n",
       "      <td>0.108912</td>\n",
       "    </tr>\n",
       "    <tr>\n",
       "      <th>48</th>\n",
       "      <td>onehot__weekday_0</td>\n",
       "      <td>0.099794</td>\n",
       "    </tr>\n",
       "    <tr>\n",
       "      <th>62</th>\n",
       "      <td>remainder__season</td>\n",
       "      <td>0.059330</td>\n",
       "    </tr>\n",
       "  </tbody>\n",
       "</table>\n",
       "</div>"
      ],
      "text/plain": [
       "               Feature  Importance\n",
       "49   onehot__weekday_1    0.259817\n",
       "1   onehot__tahun_2012    0.117477\n",
       "64       remainder__hr    0.108912\n",
       "48   onehot__weekday_0    0.099794\n",
       "62   remainder__season    0.059330"
      ]
     },
     "execution_count": 53,
     "metadata": {},
     "output_type": "execute_result"
    }
   ],
   "source": [
    "\n",
    "# Plot feature importances\n",
    "feature_imp = pd.DataFrame(xgb_tuning['model'].feature_importances_, transformer.get_feature_names_out()).reset_index().rename(columns={'index' : 'Feature', 0 : 'Importance'})\n",
    "Top5_feature = feature_imp.sort_values('Importance',ascending=False).head(5)\n",
    "Top5_feature"
   ]
  },
  {
   "cell_type": "code",
   "execution_count": 54,
   "metadata": {},
   "outputs": [
    {
     "data": {
      "image/png": "[encoded data removed]",
      "text/plain": [
       "<Figure size 1000x600 with 1 Axes>"
      ]
     },
     "metadata": {},
     "output_type": "display_data"
    }
   ],
   "source": [
    "plt.figure(figsize=(10, 6))\n",
    "plt.barh(Top5_feature['Feature'], Top5_feature['Importance'], label='Before Tuning')\n",
    "plt.title('Top 5 Feature Importances Before Tuning')\n",
    "plt.xlabel('Importance')\n",
    "plt.legend()\n",
    "plt.show()"
   ]
  },
  {
   "cell_type": "markdown",
   "metadata": {},
   "source": [
    "#### **Save Model**"
   ]
  },
  {
   "cell_type": "code",
   "execution_count": 56,
   "metadata": {},
   "outputs": [],
   "source": [
    "import pickle\n",
    "\n",
    "pickle.dump(xgb_tuning, open('Model_Airbnb_XGB.pkl', 'wb'))"
   ]
  },
  {
   "cell_type": "code",
   "execution_count": null,
   "metadata": {},
   "outputs": [],
   "source": []
  },
  {
   "cell_type": "code",
   "execution_count": null,
   "metadata": {},
   "outputs": [],
   "source": []
  },
  {
   "cell_type": "code",
   "execution_count": null,
   "metadata": {},
   "outputs": [],
   "source": []
  }
 ],
 "metadata": {
  "kernelspec": {
   "display_name": "Python 3 (ipykernel)",
   "language": "python",
   "name": "python3"
  },
  "language_info": {
   "codemirror_mode": {
    "name": "ipython",
    "version": 3
   },
   "file_extension": ".py",
   "mimetype": "text/x-python",
   "name": "python",
   "nbconvert_exporter": "python",
   "pygments_lexer": "ipython3",
   "version": "3.11.6"
  },
  "vscode": {
   "interpreter": {
    "hash": "8891f3cfb547db503e78f25128202364d60f1c09259e140a1bd236c27b0b7a43"
   }
  }
 },
 "nbformat": 4,
 "nbformat_minor": 4
}
